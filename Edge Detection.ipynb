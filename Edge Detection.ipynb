{
 "cells": [
  {
   "cell_type": "code",
   "execution_count": 1,
   "id": "719689c3",
   "metadata": {},
   "outputs": [],
   "source": [
    "import cv2 as cv\n",
    "import numpy as np"
   ]
  },
  {
   "cell_type": "code",
   "execution_count": 16,
   "id": "29834735",
   "metadata": {},
   "outputs": [
    {
     "data": {
      "text/plain": [
       "-1"
      ]
     },
     "execution_count": 16,
     "metadata": {},
     "output_type": "execute_result"
    }
   ],
   "source": [
    "img=cv.imread('D:/openCV/photos/bhai.jpg')\n",
    "gray=cv.cvtColor(img,cv.COLOR_BGR2GRAY)\n",
    "cv.imshow(\"original\",img)\n",
    "cv.imshow(\"gray\",gray)\n",
    "\n",
    "cv.waitKey(0)\n"
   ]
  },
  {
   "cell_type": "code",
   "execution_count": 17,
   "id": "bfa7ce8d",
   "metadata": {},
   "outputs": [
    {
     "data": {
      "text/plain": [
       "array([1, 2, 5], dtype=uint8)"
      ]
     },
     "execution_count": 17,
     "metadata": {},
     "output_type": "execute_result"
    }
   ],
   "source": [
    "np.uint8(np.absolute([-1,2,5]))\n",
    "#uint8 is a image specific data type"
   ]
  },
  {
   "cell_type": "code",
   "execution_count": 18,
   "id": "e729c184",
   "metadata": {},
   "outputs": [
    {
     "data": {
      "text/plain": [
       "-1"
      ]
     },
     "execution_count": 18,
     "metadata": {},
     "output_type": "execute_result"
    }
   ],
   "source": [
    "#1: LAPLACIAN (pencil shading)\n",
    "# Laplacian(src, ddepth[, dst[, ksize[, scale[, delta[, borderType]]]]]) -> dst\n",
    "lap=cv.Laplacian(gray,cv.CV_64F)\n",
    "lap=np.uint8(np.absolute(lap))\n",
    "cv.imshow(\"laplacian\",lap)\n",
    "cv.waitKey(0)"
   ]
  },
  {
   "cell_type": "code",
   "execution_count": 2,
   "id": "6cad703d",
   "metadata": {},
   "outputs": [
    {
     "data": {
      "text/plain": [
       "-1"
      ]
     },
     "execution_count": 2,
     "metadata": {},
     "output_type": "execute_result"
    }
   ],
   "source": [
    " #sobel gradient magnitude: converts gradients into direction\n",
    "# Sobel(src, ddepth, dx, dy[, dst[, ksize[, scale[, delta[, borderType]]]]]) -> dst\n",
    "# @brief Calculates the first, second, third, or mixed image derivatives using an extended Sobel operator.\n",
    "img=cv.imread('D:/openCV/photos/bhai.jpg')\n",
    "gray=cv.cvtColor(img,cv.COLOR_BGR2GRAY)\n",
    "sobel_x=cv.Sobel(gray,cv.CV_64F,1,0)\n",
    "sobel_y=cv.Sobel(gray,cv.CV_64F,0,1)\n",
    "cv.imshow(\"sobel x\",sobel_x)\n",
    "cv.imshow(\"sobel y\",sobel_y)\n",
    "cv.waitKey(0)"
   ]
  },
  {
   "cell_type": "code",
   "execution_count": 3,
   "id": "7f9e9540",
   "metadata": {},
   "outputs": [
    {
     "data": {
      "text/plain": [
       "-1"
      ]
     },
     "execution_count": 3,
     "metadata": {},
     "output_type": "execute_result"
    }
   ],
   "source": [
    "#combination\n",
    "combined_sobel=cv.bitwise_or(sobel_x,sobel_y)\n",
    "cv.imshow(\"sobel combined\",combined_sobel)\n",
    "cv.waitKey(0)"
   ]
  },
  {
   "cell_type": "code",
   "execution_count": null,
   "id": "bf15e85b",
   "metadata": {},
   "outputs": [],
   "source": [
    "#also compare with the CANNY(high Algo uses canny)\n",
    "# canny is more clear\n",
    "# for advanced sobel is used"
   ]
  }
 ],
 "metadata": {
  "kernelspec": {
   "display_name": "Python 3 (ipykernel)",
   "language": "python",
   "name": "python3"
  },
  "language_info": {
   "codemirror_mode": {
    "name": "ipython",
    "version": 3
   },
   "file_extension": ".py",
   "mimetype": "text/x-python",
   "name": "python",
   "nbconvert_exporter": "python",
   "pygments_lexer": "ipython3",
   "version": "3.9.5"
  }
 },
 "nbformat": 4,
 "nbformat_minor": 5
}
