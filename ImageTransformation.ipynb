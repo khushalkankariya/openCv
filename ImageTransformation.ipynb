{
 "cells": [
  {
   "cell_type": "code",
   "execution_count": 2,
   "id": "a9ed9434",
   "metadata": {},
   "outputs": [],
   "source": [
    "import cv2 as cv\n",
    "import numpy as np"
   ]
  },
  {
   "cell_type": "code",
   "execution_count": 17,
   "id": "92dce75e",
   "metadata": {},
   "outputs": [
    {
     "data": {
      "text/plain": [
       "-1"
      ]
     },
     "execution_count": 17,
     "metadata": {},
     "output_type": "execute_result"
    }
   ],
   "source": [
    "#Translation: shifting from X axis and Y axis\n",
    "img=cv.imread('D:/openCV/photos/darling.jpg')\n",
    "def TranslateImg(img,x,y):\n",
    "    transMat=np.float32([[1,0,x],[0,1,y]])\n",
    "    dimension=(img.shape[1],img.shape[0])\n",
    "    return cv.warpAffine(img,transMat,dimension)\n",
    "    #applies an affine transformation \n",
    "# -X=left\n",
    "# X=right\n",
    "# -y=up\n",
    "# y=down\n",
    "translated=TranslateImg(img,-450,-650)\n",
    "cv.imshow(\"translated\",translated)\n",
    "cv.waitKey(0)"
   ]
  },
  {
   "cell_type": "code",
   "execution_count": 24,
   "id": "3a835c58",
   "metadata": {},
   "outputs": [],
   "source": [
    "# Image translation\n",
    "import cv2\n",
    "import numpy as np\n",
    "\n",
    "image =cv.imread('D:/openCV/photos/bhai.jpg')\n",
    "\n",
    "# Store height and width of the image\n",
    "height, width = image.shape[:2]\n",
    "\n",
    "want_height, waant_width = height / 8, width / 20\n",
    "\n",
    "T = np.float32([[1, 0, quarter_width], [0, 1, quarter_height]])\n",
    "\n",
    "# We use warpAffine to transform\n",
    "# the image using the matrix, T\n",
    "img_translation = cv2.warpAffine(image, T, (width, height))\n",
    "\n",
    "cv2.imshow(\"Originalimage\", image)\n",
    "cv2.imshow('Translation', img_translation)\n",
    "cv2.waitKey()\n",
    "\n",
    "cv2.destroyAllWindows()\n"
   ]
  },
  {
   "cell_type": "code",
   "execution_count": 23,
   "id": "9d9a7eb7",
   "metadata": {},
   "outputs": [
    {
     "data": {
      "text/plain": [
       "-1"
      ]
     },
     "execution_count": 23,
     "metadata": {},
     "output_type": "execute_result"
    }
   ],
   "source": [
    "#rotation\n",
    "path =r'D:/openCV/photos/bhai.jpg'\n",
    "  \n",
    "# Reading an image in default mode\n",
    "src = cv2.imread(path)\n",
    "  \n",
    "# Window name in which image is displayed\n",
    "window_name = 'Image'\n",
    "  \n",
    "# Using cv2.rotate() method\n",
    "# Using cv2.ROTATE_180 rotate by \n",
    "# 180 degrees clockwise\n",
    "image = cv2.rotate(src, cv2.ROTATE_90_COUNTERCLOCKWISE)\n",
    "  \n",
    "# Displaying the image\n",
    "cv2.imshow(window_name, image)\n",
    "cv2.waitKey(0)"
   ]
  },
  {
   "cell_type": "code",
   "execution_count": 6,
   "id": "34c6b398",
   "metadata": {},
   "outputs": [
    {
     "data": {
      "text/plain": [
       "-1"
      ]
     },
     "execution_count": 6,
     "metadata": {},
     "output_type": "execute_result"
    }
   ],
   "source": [
    "img=cv.imread('D:/openCV/photos/dog.jpg')\n",
    "def rotate(img, angle, rotPoint=None):\n",
    "    height,width=img.shape[:2]\n",
    "    if rotPoint is None:\n",
    "        rotPoint=(width//2,height//2)\n",
    "    rotMat=cv.getRotationMatrix2D(rotPoint,angle,1.0)\n",
    "    dimension=(width,height)\n",
    "    return cv.warpAffine(img, rotMat,dimension)\n",
    "rotated=rotate(img,-45)\n",
    "cv.imshow(\"Rotated\",rotated)\n",
    "cv.waitKey()"
   ]
  },
  {
   "cell_type": "code",
   "execution_count": 7,
   "id": "2ffea06f",
   "metadata": {},
   "outputs": [],
   "source": [
    "#Resizing\n"
   ]
  },
  {
   "cell_type": "code",
   "execution_count": 8,
   "id": "d32656aa",
   "metadata": {},
   "outputs": [
    {
     "data": {
      "text/plain": [
       "-1"
      ]
     },
     "execution_count": 8,
     "metadata": {},
     "output_type": "execute_result"
    }
   ],
   "source": [
    "#Flipping\n",
    "# flip(src, flipCode[, dst]) -> dst\n",
    "# .   @brief Flips a 2D array around vertical, horizontal, or both axes.\n",
    "#0=flipping vertically/over x-xes\n",
    "#1=flipping horizontally/ over y-axes\n",
    "#-1=both\n",
    "img=cv.imread('D:/openCV/photos/dog.jpg')\n",
    "flip=cv.flip(img,1)\n",
    "cv.imshow(\"flipped\",flip)\n",
    "cv.imshow(\"original\",img)\n",
    "cv.waitKey(0)\n",
    "#you will see of mirror image in 1"
   ]
  },
  {
   "cell_type": "code",
   "execution_count": null,
   "id": "90a06fc7",
   "metadata": {},
   "outputs": [],
   "source": []
  }
 ],
 "metadata": {
  "kernelspec": {
   "display_name": "Python 3 (ipykernel)",
   "language": "python",
   "name": "python3"
  },
  "language_info": {
   "codemirror_mode": {
    "name": "ipython",
    "version": 3
   },
   "file_extension": ".py",
   "mimetype": "text/x-python",
   "name": "python",
   "nbconvert_exporter": "python",
   "pygments_lexer": "ipython3",
   "version": "3.9.5"
  }
 },
 "nbformat": 4,
 "nbformat_minor": 5
}
