{
 "cells": [
  {
   "cell_type": "code",
   "execution_count": 26,
   "id": "8ccb593c",
   "metadata": {},
   "outputs": [],
   "source": [
    "import os\n",
    "import cv2 as cv\n",
    "import numpy as np"
   ]
  },
  {
   "cell_type": "code",
   "execution_count": 27,
   "id": "57ad8f4e",
   "metadata": {},
   "outputs": [
    {
     "name": "stdout",
     "output_type": "stream",
     "text": [
      "['ben_afflek', 'elton_john', 'jerry_seinfeld', 'madonna', 'mindy_kaling']\n"
     ]
    }
   ],
   "source": [
    "#getting folder names from the orig. directory\n",
    "\n",
    "# ['Ben Afflek', 'Elton John', 'Jerry Seinfield', 'Madonna', 'Mindy Kaling']\n",
    "p=[]\n",
    "for i in os.listdir(r'D:\\openCV\\Face_recognizer\\face recognition\\photos'):\n",
    "    p.append(i)\n",
    "print(p)"
   ]
  },
  {
   "cell_type": "code",
   "execution_count": 28,
   "id": "a9abc4ae",
   "metadata": {},
   "outputs": [],
   "source": [
    "people=['ben_afflek', 'elton_john', 'jerry_seinfeld', 'madonna', 'mindy_kaling']"
   ]
  },
  {
   "cell_type": "code",
   "execution_count": 29,
   "id": "ee566154",
   "metadata": {},
   "outputs": [],
   "source": [
    "DIR=r'D:\\openCV\\Face_recognizer\\face recognition\\photos'"
   ]
  },
  {
   "cell_type": "code",
   "execution_count": 30,
   "id": "95300ec3",
   "metadata": {},
   "outputs": [],
   "source": [
    "# os.path.join() method in Python join one or more path components intelligently. \n",
    "# This method concatenates various path components with exactly one directory separator (‘/’) \n"
   ]
  },
  {
   "cell_type": "code",
   "execution_count": 31,
   "id": "cad09121",
   "metadata": {},
   "outputs": [],
   "source": [
    "haar_cascade = cv.CascadeClassifier('D:/openCV/Face_recognizer/face recognition/haar_face.xml')\n"
   ]
  },
  {
   "cell_type": "code",
   "execution_count": 32,
   "id": "8b099d08",
   "metadata": {},
   "outputs": [],
   "source": [
    "#Model MAking\n",
    "#we will loop over folder, inside each looped folder we will loop over the images and detect the faces\n",
    "features=[]#images array\n",
    "labels=[]#whose faces does it belongs to"
   ]
  },
  {
   "cell_type": "code",
   "execution_count": 33,
   "id": "86153024",
   "metadata": {},
   "outputs": [
    {
     "name": "stdout",
     "output_type": "stream",
     "text": [
      "------------------TRAINED-----------------------\n",
      "Totoal features: 26\n",
      "Totoal labels: 26\n"
     ]
    }
   ],
   "source": [
    "def create_train():\n",
    "    for person in people:\n",
    "        path=os.path.join(DIR,person)\n",
    "        label=people.index(person)\n",
    "        #now looping over the img\n",
    "        for img in os.listdir(path):\n",
    "            img_path=os.path.join(path,img)\n",
    "            img_array=cv.imread(img_path)\n",
    "            gray=cv.cvtColor(img_array,cv.COLOR_BGR2GRAY)\n",
    "            faces_rect=haar_cascade.detectMultiScale(gray, scaleFactor=1.1, minNeighbors=4)\n",
    "        \n",
    "            #looping over every faces\n",
    "            for (x,y,w,h) in faces_rect:\n",
    "                cropped_face=gray[y:y+h,x:x+w]\n",
    "                #now appending that to features\n",
    "                features.append(cropped_face)\n",
    "                #appending index as a label\n",
    "                labels.append(label)\n",
    "create_train()\n",
    "print(\"------------------TRAINED-----------------------\")\n",
    "print(\"Totoal features:\",len(features))\n",
    "print(\"Totoal labels:\",len(labels))       \n",
    "#hundered faces and hundered labels "
   ]
  },
  {
   "cell_type": "code",
   "execution_count": 34,
   "id": "5a0c43f9",
   "metadata": {},
   "outputs": [],
   "source": [
    "features = np.array(features, dtype='object')\n",
    "labels = np.array(labels)"
   ]
  },
  {
   "cell_type": "code",
   "execution_count": 35,
   "id": "4acbbe50",
   "metadata": {},
   "outputs": [],
   "source": [
    "#instanciating the class\n",
    "face_recognizer=cv.face.LBPHFaceRecognizer_create()\n",
    "#Training our Recognizer on features list and labels\n",
    "face_recognizer.train(features,labels)"
   ]
  },
  {
   "cell_type": "code",
   "execution_count": 36,
   "id": "0a54a325",
   "metadata": {},
   "outputs": [],
   "source": [
    "#saving our model so that we can use it anywhere\n",
    "face_recognizer.save('face_trained.yml')\n",
    "\n",
    "# Signature: np.save(file, arr, allow_pickle=True, fix_imports=True)\n",
    "# Docstring:\n",
    "# Save an array to a binary file in NumPy ``.npy`` format.\n",
    "\n",
    "np.save('features.npy',features)\n",
    "np.save('labels.npy',labels)"
   ]
  },
  {
   "cell_type": "code",
   "execution_count": 13,
   "id": "f4d6e51e",
   "metadata": {},
   "outputs": [
    {
     "ename": "FileNotFoundError",
     "evalue": "[WinError 3] The system cannot find the path specified: 'D:\\\\openCV\\\\Face_recognizer\\\\face recognition\\\\photos\\\\Ben Afflek'",
     "output_type": "error",
     "traceback": [
      "\u001b[1;31m---------------------------------------------------------------------------\u001b[0m",
      "\u001b[1;31mFileNotFoundError\u001b[0m                         Traceback (most recent call last)",
      "Input \u001b[1;32mIn [13]\u001b[0m, in \u001b[0;36m<module>\u001b[1;34m\u001b[0m\n\u001b[0;32m     26\u001b[0m                 features\u001b[38;5;241m.\u001b[39mappend(faces_roi)\n\u001b[0;32m     27\u001b[0m                 labels\u001b[38;5;241m.\u001b[39mappend(label)\n\u001b[1;32m---> 29\u001b[0m \u001b[43mcreate_train\u001b[49m\u001b[43m(\u001b[49m\u001b[43m)\u001b[49m\n\u001b[0;32m     30\u001b[0m \u001b[38;5;28mprint\u001b[39m(\u001b[38;5;124m'\u001b[39m\u001b[38;5;124mTraining done ---------------\u001b[39m\u001b[38;5;124m'\u001b[39m)\n\u001b[0;32m     32\u001b[0m features \u001b[38;5;241m=\u001b[39m np\u001b[38;5;241m.\u001b[39marray(features, dtype\u001b[38;5;241m=\u001b[39m\u001b[38;5;124m'\u001b[39m\u001b[38;5;124mobject\u001b[39m\u001b[38;5;124m'\u001b[39m)\n",
      "Input \u001b[1;32mIn [13]\u001b[0m, in \u001b[0;36mcreate_train\u001b[1;34m()\u001b[0m\n\u001b[0;32m     15\u001b[0m path \u001b[38;5;241m=\u001b[39m os\u001b[38;5;241m.\u001b[39mpath\u001b[38;5;241m.\u001b[39mjoin(DIR, person)\n\u001b[0;32m     16\u001b[0m label \u001b[38;5;241m=\u001b[39m people\u001b[38;5;241m.\u001b[39mindex(person)\n\u001b[1;32m---> 18\u001b[0m \u001b[38;5;28;01mfor\u001b[39;00m img \u001b[38;5;129;01min\u001b[39;00m \u001b[43mos\u001b[49m\u001b[38;5;241;43m.\u001b[39;49m\u001b[43mlistdir\u001b[49m\u001b[43m(\u001b[49m\u001b[43mpath\u001b[49m\u001b[43m)\u001b[49m:\n\u001b[0;32m     19\u001b[0m     img_path \u001b[38;5;241m=\u001b[39m os\u001b[38;5;241m.\u001b[39mpath\u001b[38;5;241m.\u001b[39mjoin(path,img)\n\u001b[0;32m     20\u001b[0m     img_array \u001b[38;5;241m=\u001b[39m cv\u001b[38;5;241m.\u001b[39mimread(img_path)\n",
      "\u001b[1;31mFileNotFoundError\u001b[0m: [WinError 3] The system cannot find the path specified: 'D:\\\\openCV\\\\Face_recognizer\\\\face recognition\\\\photos\\\\Ben Afflek'"
     ]
    }
   ],
   "source": [
    "\n",
    "import os\n",
    "import cv2 as cv\n",
    "import numpy as np\n",
    "\n",
    "people = ['Ben Afflek', 'Elton John', 'Jerry Seinfield', 'Madonna', 'Mindy Kaling']\n",
    "DIR=r'D:\\openCV\\Face_recognizer\\face recognition\\photos'\n",
    "\n",
    "haar_cascade = cv.CascadeClassifier('D:/openCV/Face_recognizer/face recognition/haar_face.xml')\n",
    "\n",
    "features = []\n",
    "labels = []\n",
    "\n",
    "def create_train():\n",
    "    for person in people:\n",
    "        path = os.path.join(DIR, person)\n",
    "        label = people.index(person)\n",
    "\n",
    "        for img in os.listdir(path):\n",
    "            img_path = os.path.join(path,img)\n",
    "            img_array = cv.imread(img_path)\n",
    "            gray = cv.cvtColor(img_array, cv.COLOR_BGR2GRAY)\n",
    "            faces_rect = haar_cascade.detectMultiScale(gray, scaleFactor=1.1, minNeighbors=4)\n",
    "\n",
    "            for (x,y,w,h) in faces_rect:\n",
    "                faces_roi = gray[y:y+h, x:x+w]\n",
    "                features.append(faces_roi)\n",
    "                labels.append(label)\n",
    "\n",
    "create_train()\n",
    "print('Training done ---------------')\n",
    "\n",
    "features = np.array(features, dtype='object')\n",
    "labels = np.array(labels)"
   ]
  },
  {
   "cell_type": "markdown",
   "id": "b501252e",
   "metadata": {},
   "source": [
    "*u will notice 3 files saved to urs directory:\n",
    "    2 np files\n",
    "    and 1\n",
    "    yeml file*"
   ]
  }
 ],
 "metadata": {
  "kernelspec": {
   "display_name": "Python 3 (ipykernel)",
   "language": "python",
   "name": "python3"
  },
  "language_info": {
   "codemirror_mode": {
    "name": "ipython",
    "version": 3
   },
   "file_extension": ".py",
   "mimetype": "text/x-python",
   "name": "python",
   "nbconvert_exporter": "python",
   "pygments_lexer": "ipython3",
   "version": "3.9.5"
  }
 },
 "nbformat": 4,
 "nbformat_minor": 5
}
