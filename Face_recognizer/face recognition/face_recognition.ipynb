{
 "cells": [
  {
   "cell_type": "code",
   "execution_count": 1,
   "id": "bed90422",
   "metadata": {},
   "outputs": [],
   "source": [
    "import numpy as np\n",
    "import cv2 as cv"
   ]
  },
  {
   "cell_type": "code",
   "execution_count": 2,
   "id": "1c24399c",
   "metadata": {},
   "outputs": [],
   "source": [
    "haar_cascade = cv.CascadeClassifier('D:/openCV/Face_recognizer/face recognition/haar_face.xml')\n"
   ]
  },
  {
   "cell_type": "code",
   "execution_count": 3,
   "id": "837e288e",
   "metadata": {},
   "outputs": [],
   "source": [
    "people=['Ben Afflek', 'Elton John', 'Jerry Seinfield', 'Madonna', 'Mindy Kaling']"
   ]
  },
  {
   "cell_type": "code",
   "execution_count": 4,
   "id": "e766be0d",
   "metadata": {},
   "outputs": [],
   "source": [
    "# #loading features and labels\n",
    "# features=np.load('features.npy')\n",
    "# labels=np.load('labels.npy')"
   ]
  },
  {
   "cell_type": "code",
   "execution_count": 5,
   "id": "4c459728",
   "metadata": {},
   "outputs": [],
   "source": [
    "face_recognizer=cv.face.LBPHFaceRecognizer_create()\n",
    "face_recognizer.read('face_trained.yml')"
   ]
  },
  {
   "cell_type": "code",
   "execution_count": 6,
   "id": "f7671c68",
   "metadata": {},
   "outputs": [
    {
     "data": {
      "text/plain": [
       "-1"
      ]
     },
     "execution_count": 6,
     "metadata": {},
     "output_type": "execute_result"
    }
   ],
   "source": [
    "img=cv.imread(r'D:\\openCV\\Face_recognizer\\face recognition\\photos\\Madonna\\5.jpg')\n",
    "gray=cv.cvtColor(img,cv.COLOR_BGR2GRAY)\n",
    "cv.imshow('Person',gray)\n",
    "cv.waitKey(0)"
   ]
  },
  {
   "cell_type": "code",
   "execution_count": 7,
   "id": "684f84a4",
   "metadata": {},
   "outputs": [
    {
     "name": "stdout",
     "output_type": "stream",
     "text": [
      "Label=Madonna with a confidence 0.0\n",
      "0.0\n"
     ]
    },
    {
     "data": {
      "text/plain": [
       "-1"
      ]
     },
     "execution_count": 7,
     "metadata": {},
     "output_type": "execute_result"
    }
   ],
   "source": [
    "#Detecting the face\n",
    "face_rect=haar_cascade.detectMultiScale(gray,1.1,4)\n",
    "for (x,y,w,h) in face_rect:\n",
    "    cropped_face=gray[y:y+h,x:x+w]\n",
    "    label, confidence=face_recognizer.predict(cropped_face)\n",
    "    print(f'Label={people[label]} with a confidence {confidence}')\n",
    "    cv.putText(img,str(people[label]),(20,20), cv.FONT_HERSHEY_COMPLEX, 1.0,(0,255,0), thickness=2)\n",
    "    cv.rectangle(img, (x,y),(x+w,y+h),(0,255,0), thickness=2)\n",
    "    print(confidence)\n",
    "cv.imshow(\"Detected Face\", img)\n",
    "cv.waitKey(0)    "
   ]
  },
  {
   "cell_type": "code",
   "execution_count": null,
   "id": "52458952",
   "metadata": {},
   "outputs": [],
   "source": []
  }
 ],
 "metadata": {
  "kernelspec": {
   "display_name": "Python 3 (ipykernel)",
   "language": "python",
   "name": "python3"
  },
  "language_info": {
   "codemirror_mode": {
    "name": "ipython",
    "version": 3
   },
   "file_extension": ".py",
   "mimetype": "text/x-python",
   "name": "python",
   "nbconvert_exporter": "python",
   "pygments_lexer": "ipython3",
   "version": "3.9.5"
  }
 },
 "nbformat": 4,
 "nbformat_minor": 5
}
