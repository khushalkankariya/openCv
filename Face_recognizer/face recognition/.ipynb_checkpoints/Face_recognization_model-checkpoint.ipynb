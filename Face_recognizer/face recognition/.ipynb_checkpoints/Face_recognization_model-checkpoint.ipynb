{
 "cells": [
  {
   "cell_type": "code",
   "execution_count": 1,
   "id": "8ccb593c",
   "metadata": {},
   "outputs": [],
   "source": [
    "import os\n",
    "import cv2 as cv\n",
    "import numpy as np"
   ]
  },
  {
   "cell_type": "code",
   "execution_count": 132,
   "id": "57ad8f4e",
   "metadata": {},
   "outputs": [
    {
     "name": "stdout",
     "output_type": "stream",
     "text": [
      "['ben_afflek', 'elton_john', 'jerry_seinfeld', 'madonna', 'mindy_kaling']\n"
     ]
    }
   ],
   "source": [
    "#getting folder names from the orig. directory\n",
    "\n",
    "# ['Ben Afflek', 'Elton John', 'Jerry Seinfield', 'Madonna', 'Mindy Kaling']\n",
    "p=[]\n",
    "for i in os.listdir(r'D:\\openCV\\Face_recognizer\\face recognition\\photos'):\n",
    "    p.append(i)\n",
    "print(p)"
   ]
  },
  {
   "cell_type": "code",
   "execution_count": 144,
   "id": "a9abc4ae",
   "metadata": {},
   "outputs": [],
   "source": [
    "people=['ben_afflek', 'elton_john', 'jerry_seinfeld', 'madonna', 'mindy_kaling']"
   ]
  },
  {
   "cell_type": "code",
   "execution_count": 139,
   "id": "ee566154",
   "metadata": {},
   "outputs": [],
   "source": [
    "DIR=r'D:\\openCV\\Face_recognizer\\face recognition\\photos'"
   ]
  },
  {
   "cell_type": "code",
   "execution_count": 140,
   "id": "5a95d38c",
   "metadata": {},
   "outputs": [],
   "source": [
    "# os.path.join() method in Python join one or more path components intelligently. \n",
    "# This method concatenates various path components with exactly one directory separator (‘/’) \n"
   ]
  },
  {
   "cell_type": "code",
   "execution_count": 141,
   "id": "f73ff6e6",
   "metadata": {},
   "outputs": [],
   "source": [
    "haar_cascade=cv.CascadeClassifier('haar_face.xml')"
   ]
  },
  {
   "cell_type": "code",
   "execution_count": 142,
   "id": "8b099d08",
   "metadata": {},
   "outputs": [],
   "source": [
    "#Model MAking\n",
    "#we will loop over folder, inside each looped folder we will loop over the images and detect the faces\n",
    "features=[]#images array\n",
    "labels=[]#whose faces does it belongs to"
   ]
  },
  {
   "cell_type": "code",
   "execution_count": 145,
   "id": "d6cee16a",
   "metadata": {},
   "outputs": [
    {
     "name": "stdout",
     "output_type": "stream",
     "text": [
      "------------------TRAINED-----------------------\n",
      "Totoal features: 26\n",
      "Totoal labels: 26\n"
     ]
    }
   ],
   "source": [
    "def create_train():\n",
    "    for person in people:\n",
    "        path=os.path.join(DIR,person)\n",
    "        label=people.index(person)\n",
    "        #now looping over the img\n",
    "        for img in os.listdir(path):\n",
    "            img_path=os.path.join(path,img)\n",
    "            img_array=cv.imread(img_path)\n",
    "            gray=cv.cvtColor(img_array,cv.COLOR_BGR2GRAY)\n",
    "            faces_rect=haar_cascade.detectMultiScale(gray, scaleFactor=1.1, minNeighbors=4)\n",
    "        \n",
    "            #looping over every faces\n",
    "            for (x,y,w,h) in faces_rect:\n",
    "                cropped_face=gray[y:y+h,x:x+w]\n",
    "                #now appending that to features\n",
    "                features.append(cropped_face)\n",
    "                #appending index as a label\n",
    "                labels.append(label)\n",
    "create_train()\n",
    "print(\"------------------TRAINED-----------------------\")\n",
    "print(\"Totoal features:\",len(features))\n",
    "print(\"Totoal labels:\",len(labels))       \n",
    "#hundered faces and hundered labels "
   ]
  },
  {
   "cell_type": "code",
   "execution_count": 146,
   "id": "dd5c93e7",
   "metadata": {},
   "outputs": [],
   "source": [
    "features=np.array(features, dtype='object')\n",
    "labels=np.array(labels)\n"
   ]
  },
  {
   "cell_type": "code",
   "execution_count": 147,
   "id": "d83013c7",
   "metadata": {},
   "outputs": [],
   "source": [
    "#instanciating the class\n",
    "face_recognizer=cv.face.LBPHFaceRecognizer_create()\n",
    "#Training our Recognizer on features list and labels\n",
    "face_recognizer.train(features,labels)"
   ]
  },
  {
   "cell_type": "code",
   "execution_count": 148,
   "id": "8e5e0dfc",
   "metadata": {},
   "outputs": [],
   "source": [
    "#saving our model so that we can use it anywhere\n",
    "face_recognizer.save('face_trained.yml')\n",
    "\n",
    "# Signature: np.save(file, arr, allow_pickle=True, fix_imports=True)\n",
    "# Docstring:\n",
    "# Save an array to a binary file in NumPy ``.npy`` format.\n",
    "\n",
    "np.save('features.npy',features)\n",
    "np.save('labels.npy',labels)"
   ]
  },
  {
   "cell_type": "markdown",
   "id": "5a1ec1ad",
   "metadata": {},
   "source": [
    "*u will notice 3 files saved to urs directory:\n",
    "    2 np files\n",
    "    and 1\n",
    "    yeml file*"
   ]
  }
 ],
 "metadata": {
  "kernelspec": {
   "display_name": "Python 3 (ipykernel)",
   "language": "python",
   "name": "python3"
  },
  "language_info": {
   "codemirror_mode": {
    "name": "ipython",
    "version": 3
   },
   "file_extension": ".py",
   "mimetype": "text/x-python",
   "name": "python",
   "nbconvert_exporter": "python",
   "pygments_lexer": "ipython3",
   "version": "3.9.5"
  }
 },
 "nbformat": 4,
 "nbformat_minor": 5
}
