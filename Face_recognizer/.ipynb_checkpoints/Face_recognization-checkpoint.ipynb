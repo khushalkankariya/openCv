{
 "cells": [
  {
   "cell_type": "code",
   "execution_count": 1,
   "id": "8ccb593c",
   "metadata": {},
   "outputs": [],
   "source": [
    "import os\n",
    "import cv2 as cv\n",
    "import numpy as np"
   ]
  },
  {
   "cell_type": "code",
   "execution_count": 2,
   "id": "57ad8f4e",
   "metadata": {},
   "outputs": [
    {
     "name": "stdout",
     "output_type": "stream",
     "text": [
      "['Ben Afflek', 'Elton John', 'Jerry Seinfield', 'Madonna', 'Mindy Kaling']\n"
     ]
    }
   ],
   "source": [
    "#getting folder names from the orig. directory\n",
    "\n",
    "# ['Ben Afflek', 'Elton John', 'Jerry Seinfield', 'Madonna', 'Mindy Kaling']\n",
    "p=[]\n",
    "for i in os.listdir(r'D:\\openCV\\Face_recognizer\\Photos'):\n",
    "    p.append(i)\n",
    "print(p)"
   ]
  },
  {
   "cell_type": "code",
   "execution_count": 4,
   "id": "a9abc4ae",
   "metadata": {},
   "outputs": [],
   "source": [
    "people=['Ben Afflek', 'Elton John', 'Jerry Seinfield', 'Madonna', 'Mindy Kaling']"
   ]
  },
  {
   "cell_type": "code",
   "execution_count": 5,
   "id": "ee566154",
   "metadata": {},
   "outputs": [],
   "source": [
    "DIR=r'D:\\openCV\\Face_recognizer\\Photos'"
   ]
  },
  {
   "cell_type": "code",
   "execution_count": null,
   "id": "8b099d08",
   "metadata": {},
   "outputs": [],
   "source": [
    "#Model MAking\n",
    "#we will loop over folder, inside each looped folder we will loop over the images and detect the faces\n",
    "fearures=[]#images array\n",
    "labels=[]#whose faces does it belongs to\n",
    "def create_train():\n",
    "    for person in people:\n",
    "        path=os.path.join(DIR,person)\n",
    "        label=people.index(person)\n",
    "        #now looping over the img\n",
    "        for img in os.listdir(path)\n",
    "        img_path=os.path.join(path,img)\n",
    "        img_array"
   ]
  }
 ],
 "metadata": {
  "kernelspec": {
   "display_name": "Python 3 (ipykernel)",
   "language": "python",
   "name": "python3"
  },
  "language_info": {
   "codemirror_mode": {
    "name": "ipython",
    "version": 3
   },
   "file_extension": ".py",
   "mimetype": "text/x-python",
   "name": "python",
   "nbconvert_exporter": "python",
   "pygments_lexer": "ipython3",
   "version": "3.9.5"
  }
 },
 "nbformat": 4,
 "nbformat_minor": 5
}
