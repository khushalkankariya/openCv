{
 "cells": [
  {
   "cell_type": "code",
   "execution_count": 34,
   "id": "1ea92ff8",
   "metadata": {},
   "outputs": [],
   "source": [
    "import cv2 as cv"
   ]
  },
  {
   "cell_type": "code",
   "execution_count": 35,
   "id": "591c71b2",
   "metadata": {},
   "outputs": [
    {
     "data": {
      "text/plain": [
       "-1"
      ]
     },
     "execution_count": 35,
     "metadata": {},
     "output_type": "execute_result"
    }
   ],
   "source": [
    "img=cv.imread('D:/openCV/Face_recognizer/single.jpg')\n",
    "cv.imshow(\"Original\",img)\n",
    "gray=cv.cvtColor(img,cv.COLOR_BGR2GRAY)\n",
    "cv.imshow(\"gray\",gray)\n",
    "cv.waitKey(0)"
   ]
  },
  {
   "cell_type": "code",
   "execution_count": 36,
   "id": "c3e47017",
   "metadata": {},
   "outputs": [],
   "source": [
    "haar_cascade=cv.CascadeClassifier(\"haar_face.xml\")"
   ]
  },
  {
   "cell_type": "code",
   "execution_count": 37,
   "id": "89bf0e82",
   "metadata": {},
   "outputs": [
    {
     "name": "stdout",
     "output_type": "stream",
     "text": [
      "number of faces found 1\n"
     ]
    }
   ],
   "source": [
    "#harrcascade: detects the face using edges\n",
    "\n",
    "# detectMultiScale(image[, scaleFactor[, minNeighbors[, flags[, minSize[, maxSize]]]]]) -> objects\n",
    "# returns a list\n",
    "faces_rect= haar_cascade.detectMultiScale(gray, scaleFactor=1.1 ,minNeighbors=20)\n",
    "print(f'number of faces found {len(faces_rect)}')"
   ]
  },
  {
   "cell_type": "code",
   "execution_count": 38,
   "id": "0ae8e60c",
   "metadata": {},
   "outputs": [
    {
     "data": {
      "text/plain": [
       "-1"
      ]
     },
     "execution_count": 38,
     "metadata": {},
     "output_type": "execute_result"
    }
   ],
   "source": [
    "#drawing rectangles on a detected faces\n",
    "#     rectangle(img, pt1, pt2, color[, thickness[, lineType[, shift]]]) -> img\n",
    "# .   @brief Draws a simple, thick, or filled up-right rectangle.\n",
    "for (x,y,w,h) in faces_rect:\n",
    "    cv.rectangle(img,(x,y),(x+w,y+h),(0,255,0), thickness=3)\n",
    "cv.imshow(\"Detected face\",img)\n",
    "cv.waitKey(0)"
   ]
  },
  {
   "cell_type": "code",
   "execution_count": null,
   "id": "04729b11",
   "metadata": {},
   "outputs": [],
   "source": [
    "#therefore by adjusting the value of miniNeighbors we have finally detected the one face in an image\n",
    "minineighbor is inversly proportional to no. of face detected"
   ]
  }
 ],
 "metadata": {
  "kernelspec": {
   "display_name": "Python 3 (ipykernel)",
   "language": "python",
   "name": "python3"
  },
  "language_info": {
   "codemirror_mode": {
    "name": "ipython",
    "version": 3
   },
   "file_extension": ".py",
   "mimetype": "text/x-python",
   "name": "python",
   "nbconvert_exporter": "python",
   "pygments_lexer": "ipython3",
   "version": "3.9.5"
  }
 },
 "nbformat": 4,
 "nbformat_minor": 5
}
