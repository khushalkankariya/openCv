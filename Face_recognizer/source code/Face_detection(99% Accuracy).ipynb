{
 "cells": [
  {
   "cell_type": "code",
   "execution_count": 2,
   "id": "588e99ce",
   "metadata": {},
   "outputs": [],
   "source": [
    "import cv2 as cv\n",
    "import face_recognition"
   ]
  },
  {
   "cell_type": "code",
   "execution_count": 6,
   "id": "10947a26",
   "metadata": {},
   "outputs": [],
   "source": [
    "img=cv.imread(\"D:/openCV/Face_recognizer/source code/Messi.jpg\")"
   ]
  },
  {
   "cell_type": "code",
   "execution_count": 8,
   "id": "ab8dc9b5",
   "metadata": {},
   "outputs": [
    {
     "data": {
      "text/plain": [
       "-1"
      ]
     },
     "execution_count": 8,
     "metadata": {},
     "output_type": "execute_result"
    }
   ],
   "source": [
    "cv.imshow(\"Image\",img)\n",
    "cv.waitKey(0)"
   ]
  },
  {
   "cell_type": "code",
   "execution_count": 19,
   "id": "307f1e07",
   "metadata": {},
   "outputs": [
    {
     "data": {
      "text/plain": [
       "-1"
      ]
     },
     "execution_count": 19,
     "metadata": {},
     "output_type": "execute_result"
    }
   ],
   "source": [
    "img=cv.imread(\"D:/openCV/Face_recognizer/source code/Messi.jpg\")\n",
    "#BGR to RGB\n",
    "rgb_img=cv.cvtColor(img,cv.COLOR_BGR2RGB)\n",
    "img_encoding=face_recognition.face_encodings(rgb_img)[0]\n",
    "cv.imshow(\"Image\",img)\n",
    "cv.waitKey(0)"
   ]
  },
  {
   "cell_type": "code",
   "execution_count": 31,
   "id": "cc800fb2",
   "metadata": {},
   "outputs": [
    {
     "data": {
      "text/plain": [
       "-1"
      ]
     },
     "execution_count": 31,
     "metadata": {},
     "output_type": "execute_result"
    }
   ],
   "source": [
    "img2=cv.imread(\"D:/openCV/Face_recognizer/source code/images/Elon Musk.jpg\")\n",
    "#BGR to RGB\n",
    "rgb_img2=cv.cvtColor(img2,cv.COLOR_BGR2RGB)\n",
    "img_encoding2=face_recognition.face_encodings(rgb_img2)[0]\n",
    "cv.imshow(\"elonMUSK\",img2)\n",
    "cv.waitKey(0)"
   ]
  },
  {
   "cell_type": "code",
   "execution_count": 23,
   "id": "0cdb824d",
   "metadata": {},
   "outputs": [
    {
     "name": "stdout",
     "output_type": "stream",
     "text": [
      "Result: [False]\n"
     ]
    }
   ],
   "source": [
    "#comparing both above image\n",
    "result=face_recognition.compare_faces([img_encoding],img_encoding2)\n",
    "print(\"Result:\",result)"
   ]
  },
  {
   "cell_type": "code",
   "execution_count": 35,
   "id": "5b18b926",
   "metadata": {},
   "outputs": [
    {
     "name": "stdout",
     "output_type": "stream",
     "text": [
      "Result: [True]\n"
     ]
    }
   ],
   "source": [
    "# messi with another img of messi\n",
    "img=cv.imread(\"D:/openCV/Face_recognizer/source code/Messi.jpg\")\n",
    "#BGR to RGB\n",
    "rgb_img=cv.cvtColor(img,cv.COLOR_BGR2RGB)\n",
    "img_encoding=face_recognition.face_encodings(rgb_img)[0]\n",
    "cv.imshow(\"Image\",img)\n",
    "\n",
    "\n",
    "img2=cv.imread(\"D:/openCV/Face_recognizer/source code/images/Messi.webp\")\n",
    "#BGR to RGB\n",
    "rgb_img2=cv.cvtColor(img2,cv.COLOR_BGR2RGB)\n",
    "img_encoding2=face_recognition.face_encodings(rgb_img2)[0]\n",
    "cv.imshow(\"mEsSi\",img2)\n",
    "cv.waitKey(0)\n",
    "\n",
    "#comparing\n",
    "result=face_recognition.compare_faces([img_encoding],img_encoding2)\n",
    "print(\"Result:\",result)"
   ]
  }
 ],
 "metadata": {
  "kernelspec": {
   "display_name": "Python 3",
   "language": "python",
   "name": "python3"
  },
  "language_info": {
   "codemirror_mode": {
    "name": "ipython",
    "version": 3
   },
   "file_extension": ".py",
   "mimetype": "text/x-python",
   "name": "python",
   "nbconvert_exporter": "python",
   "pygments_lexer": "ipython3",
   "version": "3.8.5"
  }
 },
 "nbformat": 4,
 "nbformat_minor": 5
}
