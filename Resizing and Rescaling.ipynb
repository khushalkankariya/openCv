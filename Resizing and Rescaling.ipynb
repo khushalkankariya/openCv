{
 "cells": [
  {
   "cell_type": "code",
   "execution_count": 1,
   "id": "6efa35be",
   "metadata": {},
   "outputs": [
    {
     "data": {
      "text/plain": [
       "81"
      ]
     },
     "execution_count": 1,
     "metadata": {},
     "output_type": "execute_result"
    }
   ],
   "source": [
    "ord('Q')"
   ]
  },
  {
   "cell_type": "code",
   "execution_count": 9,
   "id": "15329adf",
   "metadata": {},
   "outputs": [
    {
     "data": {
      "text/plain": [
       "'0b11111111'"
      ]
     },
     "execution_count": 9,
     "metadata": {},
     "output_type": "execute_result"
    }
   ],
   "source": [
    "bin(0XFF)"
   ]
  },
  {
   "cell_type": "raw",
   "id": "abba995d",
   "metadata": {},
   "source": [
    "0xFF==ord('q')"
   ]
  },
  {
   "cell_type": "code",
   "execution_count": 1,
   "id": "6a309146",
   "metadata": {},
   "outputs": [],
   "source": [
    "import cv2 as cv"
   ]
  },
  {
   "cell_type": "code",
   "execution_count": 17,
   "id": "ca6d3fd1",
   "metadata": {
    "scrolled": true
   },
   "outputs": [],
   "source": [
    "def rescaleFrame(frame, scale=0.75):\n",
    "    width=int((frame.shape[1]*scale)) #1=width, 0=height\n",
    "    height=int((frame.shape[0]*scale))\n",
    "    dimension=(width,height) # inside a tuple\n",
    "    return cv.resize(frame, dimension, interpolation=cv.INTER_AREA)\n",
    "img=cv.imread('D:/openCV/photos/darling.jpg')\n",
    "rescaleFrame(img)\n",
    "\n",
    "cv.imshow(\"img\",resized_img)\n",
    "# capture=cv.VideoCapture('D:/openCV/videos/pegion.mp4')\n",
    "# # capture is an instance of class videocapture()\n",
    "# while True:\n",
    "#     ret, frame = capture.read()\n",
    "#     # Display the resulting frame\n",
    "#     frame_resized=rescaleFrame(frame,scale=.2)\n",
    "#     cv.imshow('video', frame)\n",
    "#     cv.imshow('video_resized',frame_resized )\n",
    "      \n",
    "#     # the 'q' button is set as the quitting button you may use any\n",
    "#     #you can set desired button of your choice\n",
    "#     if cv.waitKey(20) & 0xFF == ord('q'):\n",
    "#         break\n",
    "# capture.release()\n",
    "cv.waitKey(0)\n",
    "cv.destroyAllWindows()"
   ]
  },
  {
   "cell_type": "code",
   "execution_count": 14,
   "id": "06c99da1",
   "metadata": {},
   "outputs": [
    {
     "name": "stdout",
     "output_type": "stream",
     "text": [
      "Original Dimensions :  (853, 1280, 3)\n",
      "Resized Dimensions :  (511, 768, 3)\n"
     ]
    }
   ],
   "source": [
    "\n",
    "#only imge\n",
    "print('Original Dimensions : ',img.shape)\n",
    " \n",
    "scale_percent = 60 # percent of original size\n",
    "width = int(img.shape[1] * scale_percent / 100) #columns\n",
    "height = int(img.shape[0] * scale_percent / 100) #rows\n",
    "dim = (width, height)\n",
    "  \n",
    "# resize image\n",
    "resized = cv.resize(img, dim, interpolation = cv.INTER_LINEAR)\n",
    " \n",
    "print('Resized Dimensions : ',resized.shape)\n",
    " \n",
    "cv.imshow(\"Resized image\", resized)\n",
    "cv.waitKey(0)\n",
    "cv.destroyAllWindows()"
   ]
  },
  {
   "cell_type": "code",
   "execution_count": 10,
   "id": "8607db76",
   "metadata": {},
   "outputs": [
    {
     "data": {
      "text/plain": [
       "853"
      ]
     },
     "execution_count": 10,
     "metadata": {},
     "output_type": "execute_result"
    }
   ],
   "source": [
    "img.shape[0]"
   ]
  },
  {
   "cell_type": "code",
   "execution_count": 12,
   "id": "63c2d983",
   "metadata": {},
   "outputs": [
    {
     "data": {
      "text/plain": [
       "1280"
      ]
     },
     "execution_count": 12,
     "metadata": {},
     "output_type": "execute_result"
    }
   ],
   "source": [
    "img.shape[1]"
   ]
  },
  {
   "cell_type": "code",
   "execution_count": null,
   "id": "28efec25",
   "metadata": {},
   "outputs": [],
   "source": []
  }
 ],
 "metadata": {
  "kernelspec": {
   "display_name": "Python 3 (ipykernel)",
   "language": "python",
   "name": "python3"
  },
  "language_info": {
   "codemirror_mode": {
    "name": "ipython",
    "version": 3
   },
   "file_extension": ".py",
   "mimetype": "text/x-python",
   "name": "python",
   "nbconvert_exporter": "python",
   "pygments_lexer": "ipython3",
   "version": "3.9.5"
  }
 },
 "nbformat": 4,
 "nbformat_minor": 5
}
