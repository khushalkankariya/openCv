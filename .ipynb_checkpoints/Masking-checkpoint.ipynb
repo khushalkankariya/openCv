{
 "cells": [
  {
   "cell_type": "code",
   "execution_count": 1,
   "id": "96663b43",
   "metadata": {},
   "outputs": [],
   "source": [
    "import cv2 as cv\n",
    "import numpy as np"
   ]
  },
  {
   "cell_type": "code",
   "execution_count": 2,
   "id": "df8b6876",
   "metadata": {},
   "outputs": [],
   "source": [
    "# using bitwise we perform masking\n",
    "# masking:u have img u want to use only face than use masking"
   ]
  },
  {
   "cell_type": "code",
   "execution_count": 3,
   "id": "e2763404",
   "metadata": {},
   "outputs": [],
   "source": [
    "img=cv.imread('D:/openCV/photos/darling.jpg')\n"
   ]
  },
  {
   "cell_type": "code",
   "execution_count": 5,
   "id": "e17bd0d1",
   "metadata": {},
   "outputs": [
    {
     "data": {
      "text/plain": [
       "-1"
      ]
     },
     "execution_count": 5,
     "metadata": {},
     "output_type": "execute_result"
    }
   ],
   "source": [
    "blank=np.zeros(img.shape[:2],dtype='uint8')\n",
    "cv.imshow(\"blank\",blank)\n",
    "cv.waitKey(0)"
   ]
  },
  {
   "cell_type": "code",
   "execution_count": 14,
   "id": "526fb595",
   "metadata": {},
   "outputs": [
    {
     "data": {
      "text/plain": [
       "(853, 1280)"
      ]
     },
     "execution_count": 14,
     "metadata": {},
     "output_type": "execute_result"
    }
   ],
   "source": [
    "blank.shape"
   ]
  },
  {
   "cell_type": "code",
   "execution_count": 36,
   "id": "93cfbb16",
   "metadata": {},
   "outputs": [
    {
     "data": {
      "text/plain": [
       "-1"
      ]
     },
     "execution_count": 36,
     "metadata": {},
     "output_type": "execute_result"
    }
   ],
   "source": [
    "#will draw circle over the blank img and will call mask\n",
    "# mask=cv.circle(blank,(img.shape[1]//2+100,img.shape[0]//2+56),200,255,-1)\n",
    "blank=np.zeros(img.shape[:2],dtype='uint8')\n",
    "mask=cv.circle(blank,(1000,220),150,255,-1)\n",
    "cv.imshow(\"mask\",mask)\n",
    "cv.waitKey(0)"
   ]
  },
  {
   "cell_type": "code",
   "execution_count": 40,
   "id": "ff1ef158",
   "metadata": {},
   "outputs": [
    {
     "data": {
      "text/plain": [
       "-1"
      ]
     },
     "execution_count": 40,
     "metadata": {},
     "output_type": "execute_result"
    }
   ],
   "source": [
    "masked=cv.bitwise_and(img,img,mask=mask)\n",
    "cv.imshow(\"masked\",masked)\n",
    "cv.waitKey(0)"
   ]
  },
  {
   "cell_type": "code",
   "execution_count": 38,
   "id": "5a071df5",
   "metadata": {},
   "outputs": [],
   "source": [
    "#u can same apply for the rectangle/circle....masking"
   ]
  },
  {
   "cell_type": "code",
   "execution_count": 39,
   "id": "bb64138f",
   "metadata": {},
   "outputs": [],
   "source": [
    "#u can experiment with the weired shapes"
   ]
  },
  {
   "cell_type": "code",
   "execution_count": null,
   "id": "41c3a24b",
   "metadata": {},
   "outputs": [],
   "source": []
  }
 ],
 "metadata": {
  "kernelspec": {
   "display_name": "Python 3 (ipykernel)",
   "language": "python",
   "name": "python3"
  },
  "language_info": {
   "codemirror_mode": {
    "name": "ipython",
    "version": 3
   },
   "file_extension": ".py",
   "mimetype": "text/x-python",
   "name": "python",
   "nbconvert_exporter": "python",
   "pygments_lexer": "ipython3",
   "version": "3.9.5"
  }
 },
 "nbformat": 4,
 "nbformat_minor": 5
}
