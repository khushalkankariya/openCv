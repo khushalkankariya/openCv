{
 "cells": [
  {
   "cell_type": "code",
   "execution_count": 1,
   "id": "e0ca16a4",
   "metadata": {},
   "outputs": [],
   "source": [
    "import cv2 as cv"
   ]
  },
  {
   "cell_type": "code",
   "execution_count": 2,
   "id": "2eb9fe80",
   "metadata": {},
   "outputs": [],
   "source": [
    "img=cv.imread('D:/openCV/photos/train.jpg')"
   ]
  },
  {
   "cell_type": "code",
   "execution_count": 3,
   "id": "80826e57",
   "metadata": {},
   "outputs": [
    {
     "data": {
      "text/plain": [
       "113"
      ]
     },
     "execution_count": 3,
     "metadata": {},
     "output_type": "execute_result"
    }
   ],
   "source": [
    "cv.imshow(\"train\",img)\n",
    "cv.waitKey(0)"
   ]
  },
  {
   "cell_type": "code",
   "execution_count": 10,
   "id": "c5c2ad9c",
   "metadata": {},
   "outputs": [
    {
     "data": {
      "text/plain": [
       "-1"
      ]
     },
     "execution_count": 10,
     "metadata": {},
     "output_type": "execute_result"
    }
   ],
   "source": [
    "#converting BGR to Grayscale img\n",
    "#cvtColor(src, code[, dst[, dstCn]]) -> dst\n",
    "# @brief Converts an image from one color space to another.\n",
    "gray=cv.cvtColor(img,cv.COLOR_BGR2GRAY)\n",
    "cv.imshow(\"train\",img)\n",
    "cv.imshow(\"Gray Train\",gray)\n",
    "cv.waitKey(0)"
   ]
  },
  {
   "cell_type": "code",
   "execution_count": 12,
   "id": "db467e02",
   "metadata": {},
   "outputs": [
    {
     "data": {
      "text/plain": [
       "-1"
      ]
     },
     "execution_count": 12,
     "metadata": {},
     "output_type": "execute_result"
    }
   ],
   "source": [
    "#How To Blur\n",
    "img=cv.imread('D:/openCV/photos/dog.jpg')\n",
    "# GaussianBlur(src, ksize, sigmaX[, dst[, sigmaY[, borderType]]]) -> dst\n",
    "# .   @brief Blurs an image using a Gaussian filter.\n",
    "#to increse blur increase kernal size\n",
    "blur=cv.GaussianBlur(img, (5,7), cv.BORDER_DEFAULT)\n",
    "cv.imshow(\"dog\",img)\n",
    "cv.imshow(\"blur_dog\",blur)\n",
    "cv.waitKey(0)"
   ]
  },
  {
   "cell_type": "code",
   "execution_count": 15,
   "id": "377db4a3",
   "metadata": {},
   "outputs": [
    {
     "data": {
      "text/plain": [
       "-1"
      ]
     },
     "execution_count": 15,
     "metadata": {},
     "output_type": "execute_result"
    }
   ],
   "source": [
    "#Edge cascade: datect edges\n",
    "#there are many ways but we will be usig canny\n",
    "img=cv.imread('D:/openCV/photos/darling.jpg')\n",
    "# canny(image, threshold1, threshold2[, edges[, apertureSize[, L2gradient]]]) -> edges\n",
    "# .   @brief Finds edges in an image using the Canny algorithm @cite Canny86 .\n",
    "canny=cv.Canny(img,125,175)\n",
    "#if you want to reduce borders first blur and then see\n",
    "blur=cv.GaussianBlur(img, (7,7), cv.BORDER_DEFAULT)\n",
    "canny_blur=cv.Canny(blur,125,175)\n",
    "cv.imshow(\"baby\",img)\n",
    "cv.imshow(\"sexybaby\",canny)\n",
    "cv.imshow(\"less_sexybaby\",canny_blur)\n",
    "cv.waitKey(0)\n"
   ]
  },
  {
   "cell_type": "code",
   "execution_count": 4,
   "id": "6561e7be",
   "metadata": {},
   "outputs": [
    {
     "data": {
      "text/plain": [
       "-1"
      ]
     },
     "execution_count": 4,
     "metadata": {},
     "output_type": "execute_result"
    }
   ],
   "source": [
    "#Dilating the img using edges canny\n",
    "img=cv.imread('D:/openCV/photos/darling.jpg')\n",
    "canny=cv.Canny(img,125,175)\n",
    "# dilate(src, kernel[, dst[, anchor[, iterations[, borderType[, borderValue]]]]]) -> dst\n",
    "# .   @brief increses the thickness  \n",
    "dilated=cv.dilate(canny,(7,7),iterations=4)\n",
    "cv.imshow(\"canny\",canny)\n",
    "cv.imshow(\"dilated\",dilated)\n",
    "cv.waitKey(0)\n"
   ]
  },
  {
   "cell_type": "code",
   "execution_count": 6,
   "id": "d691bdda",
   "metadata": {},
   "outputs": [
    {
     "data": {
      "text/plain": [
       "-1"
      ]
     },
     "execution_count": 6,
     "metadata": {},
     "output_type": "execute_result"
    }
   ],
   "source": [
    "#ERODE: from dilated making the canny image (approxly)\n",
    "img=cv.imread('D:/openCV/photos/darling.jpg')\n",
    "canny=cv.Canny(img,125,175)\n",
    "cv.imshow(\"canny\",canny)\n",
    "dilated=cv.dilate(canny,(7,7),iterations=4)\n",
    "cv.imshow(\"dilated\",dilated)\n",
    "# eroding\n",
    "# erode(src, kernel[, dst[, anchor[, iterations[, borderType[, borderValue]]]]]) -> dst\n",
    "erode=cv.erode(dilated,(7,7),iterations=4)\n",
    "cv.imshow(\"eroded\",erode)\n",
    "cv.waitKey(0)\n",
    "#compare canny and eroded\n"
   ]
  },
  {
   "cell_type": "code",
   "execution_count": 9,
   "id": "2d3a99ca",
   "metadata": {},
   "outputs": [
    {
     "data": {
      "text/plain": [
       "-1"
      ]
     },
     "execution_count": 9,
     "metadata": {},
     "output_type": "execute_result"
    }
   ],
   "source": [
    "#Resize\n",
    "img=cv.imread('D:/openCV/photos/darling.jpg')\n",
    "# resize(src, dsize[, dst[, fx[, fy[, interpolation]]]]) -> dst\n",
    "# .   @brief Resizes an image.\n",
    "resize=cv.resize(img,(500,500))\n",
    "cv.imshow(\"Resized\",resize)\n",
    "cv.waitKey(0)"
   ]
  },
  {
   "cell_type": "code",
   "execution_count": null,
   "id": "a831411f",
   "metadata": {},
   "outputs": [],
   "source": [
    "img=cv.imread('D:/openCV/photos/darling.jpg')\n",
    "# resize(src, dsize[, dst[, fx[, fy[, interpolation]]]]) -> dst\n",
    "# .   @brief Resizes an image.\n",
    "resize=cv.resize(img,(500,500),interpolation=cv.INTER_CUBIC)\n",
    "cv.imshow(\"Resized\",resize)\n",
    "cv.waitKey(0)"
   ]
  },
  {
   "cell_type": "code",
   "execution_count": 17,
   "id": "62734e09",
   "metadata": {},
   "outputs": [
    {
     "data": {
      "text/plain": [
       "-1"
      ]
     },
     "execution_count": 17,
     "metadata": {},
     "output_type": "execute_result"
    }
   ],
   "source": [
    "#Cropping(array slicing)\n",
    "img=cv.imread('D:/openCV/photos/darling.jpg')\n",
    "crop=img[400:600,700:1000]\n",
    "cv.imshow(\"sexy_crop\",crop)\n",
    "cv.waitKey(0)"
   ]
  },
  {
   "cell_type": "code",
   "execution_count": 22,
   "id": "d31f335c",
   "metadata": {},
   "outputs": [],
   "source": [
    "import numpy as np\n",
    "arr=np.array([[1,2,3,4],[4,5,6,7]])\n",
    "#1,2,3,4\n",
    "#4,5,6,7"
   ]
  },
  {
   "cell_type": "code",
   "execution_count": 27,
   "id": "de1698b4",
   "metadata": {},
   "outputs": [],
   "source": [
    "arr1=arr[0:2,1:4]"
   ]
  },
  {
   "cell_type": "code",
   "execution_count": 28,
   "id": "0cb8785b",
   "metadata": {},
   "outputs": [
    {
     "data": {
      "text/plain": [
       "array([[2, 3, 4],\n",
       "       [5, 6, 7]])"
      ]
     },
     "execution_count": 28,
     "metadata": {},
     "output_type": "execute_result"
    }
   ],
   "source": [
    "arr1"
   ]
  },
  {
   "cell_type": "code",
   "execution_count": null,
   "id": "b9f23921",
   "metadata": {},
   "outputs": [],
   "source": []
  }
 ],
 "metadata": {
  "kernelspec": {
   "display_name": "Python 3 (ipykernel)",
   "language": "python",
   "name": "python3"
  },
  "language_info": {
   "codemirror_mode": {
    "name": "ipython",
    "version": 3
   },
   "file_extension": ".py",
   "mimetype": "text/x-python",
   "name": "python",
   "nbconvert_exporter": "python",
   "pygments_lexer": "ipython3",
   "version": "3.9.5"
  }
 },
 "nbformat": 4,
 "nbformat_minor": 5
}
