{
 "cells": [
  {
   "cell_type": "code",
   "execution_count": 4,
   "id": "84a0cd49",
   "metadata": {},
   "outputs": [],
   "source": [
    "# thresholding:convertiing img i n bnary image\n",
    "# pixels are 0:Black, 255: white\n",
    "#we will choose a threshold value if it is below it then black else white"
   ]
  },
  {
   "cell_type": "code",
   "execution_count": 3,
   "id": "600dcecf",
   "metadata": {},
   "outputs": [],
   "source": [
    "import cv2 as cv"
   ]
  },
  {
   "cell_type": "code",
   "execution_count": 6,
   "id": "d79dff02",
   "metadata": {},
   "outputs": [
    {
     "data": {
      "text/plain": [
       "-1"
      ]
     },
     "execution_count": 6,
     "metadata": {},
     "output_type": "execute_result"
    }
   ],
   "source": [
    "img=cv.imread('D:/openCV/photos/bhed.jpg')\n",
    "cv.imshow(\"bhed\",img)\n",
    "gray=cv.cvtColor(img,cv.COLOR_BGR2GRAY)\n",
    "cv.imshow(\"grey_bhed\",gray)\n",
    "cv.waitKey(0)"
   ]
  },
  {
   "cell_type": "code",
   "execution_count": 12,
   "id": "579132c8",
   "metadata": {},
   "outputs": [
    {
     "data": {
      "text/plain": [
       "-1"
      ]
     },
     "execution_count": 12,
     "metadata": {},
     "output_type": "execute_result"
    }
   ],
   "source": [
    "#simple thewsholding\n",
    "# threshold(src, thresh, maxval, type[, dst]) -> retval, dst\n",
    "threshold, thresh=cv.threshold(gray,150,255,cv.THRESH_BINARY)\n",
    "cv.imshow(\"thresholded\",thresh)\n",
    "cv.waitKey(0)\n",
    "#notice img if the pixel is above 150 it is white if it is below 150 it is black"
   ]
  },
  {
   "cell_type": "code",
   "execution_count": 11,
   "id": "c277c299",
   "metadata": {},
   "outputs": [
    {
     "data": {
      "text/plain": [
       "-1"
      ]
     },
     "execution_count": 11,
     "metadata": {},
     "output_type": "execute_result"
    }
   ],
   "source": [
    "#Inverse thresholdinga\n",
    "img=cv.imread('D:/openCV/photos/bhed.jpg')\n",
    "gray=cv.cvtColor(img,cv.COLOR_BGR2GRAY)\n",
    "threshold, thresh_inv=cv.threshold(gray,150,255,cv.THRESH_BINARY_INV)\n",
    "cv.imshow(\"thresholded_INV\",thresh_inv)\n",
    "cv.waitKey(0)"
   ]
  },
  {
   "cell_type": "code",
   "execution_count": 13,
   "id": "d65f8077",
   "metadata": {},
   "outputs": [
    {
     "data": {
      "text/plain": [
       "-1"
      ]
     },
     "execution_count": 13,
     "metadata": {},
     "output_type": "execute_result"
    }
   ],
   "source": [
    "#comparision\n",
    "cv.imshow(\"thresholded\",thresh)\n",
    "cv.imshow(\"thresholded_INV\",thresh_inv)\n",
    "cv.waitKey(0)"
   ]
  },
  {
   "cell_type": "code",
   "execution_count": 22,
   "id": "b10f3b33",
   "metadata": {},
   "outputs": [
    {
     "data": {
      "text/plain": [
       "-1"
      ]
     },
     "execution_count": 22,
     "metadata": {},
     "output_type": "execute_result"
    }
   ],
   "source": [
    "ex=thresh+thresh_inv\n",
    "cv.imshow(\"timepass\",ex)\n",
    "cv.waitKey(0)"
   ]
  },
  {
   "cell_type": "code",
   "execution_count": 29,
   "id": "273bd1d3",
   "metadata": {},
   "outputs": [
    {
     "data": {
      "text/plain": [
       "-1"
      ]
     },
     "execution_count": 29,
     "metadata": {},
     "output_type": "execute_result"
    }
   ],
   "source": [
    "#adaptive threshold: computer automatically finds thresh hold value on its own\n",
    "# adaptiveThreshold(src, maxValue, adaptiveMethod, thresholdType, blockSize, C[, dst]) -> dst\n",
    "img=cv.imread('D:/openCV/photos/bhed.jpg')\n",
    "gray=cv.cvtColor(img,cv.COLOR_BGR2GRAY)\n",
    "adaptive_thresh=cv.adaptiveThreshold(gray,255,cv.ADAPTIVE_THRESH_MEAN_C,cv.THRESH_BINARY,11,9)\n",
    "cv.imshow(\"Adaptive_threshold\",adaptive_thresh)\n",
    "cv.waitKey(0)\n"
   ]
  },
  {
   "cell_type": "code",
   "execution_count": 30,
   "id": "22f73bc7",
   "metadata": {},
   "outputs": [
    {
     "data": {
      "text/plain": [
       "-1"
      ]
     },
     "execution_count": 30,
     "metadata": {},
     "output_type": "execute_result"
    }
   ],
   "source": [
    "img=cv.imread('D:/openCV/photos/bhed.jpg')\n",
    "gray=cv.cvtColor(img,cv.COLOR_BGR2GRAY)\n",
    "adaptive_thresh=cv.adaptiveThreshold(gray,255,cv.ADAPTIVE_THRESH_GAUSSIAN_C,cv.THRESH_BINARY,11,9)\n",
    "cv.imshow(\"Adaptive_threshold\",adaptive_thresh)\n",
    "cv.waitKey(0)"
   ]
  },
  {
   "cell_type": "code",
   "execution_count": null,
   "id": "d77137d0",
   "metadata": {},
   "outputs": [],
   "source": []
  }
 ],
 "metadata": {
  "kernelspec": {
   "display_name": "Python 3 (ipykernel)",
   "language": "python",
   "name": "python3"
  },
  "language_info": {
   "codemirror_mode": {
    "name": "ipython",
    "version": 3
   },
   "file_extension": ".py",
   "mimetype": "text/x-python",
   "name": "python",
   "nbconvert_exporter": "python",
   "pygments_lexer": "ipython3",
   "version": "3.9.5"
  }
 },
 "nbformat": 4,
 "nbformat_minor": 5
}
