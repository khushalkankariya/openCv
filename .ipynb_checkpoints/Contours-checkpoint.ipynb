{
 "cells": [
  {
   "cell_type": "code",
   "execution_count": 3,
   "id": "eb880d84",
   "metadata": {},
   "outputs": [],
   "source": [
    "#contours: boundries of an object\n",
    "#used in object detection, shape \n",
    "import cv2 as cv"
   ]
  },
  {
   "cell_type": "code",
   "execution_count": 4,
   "id": "6096198f",
   "metadata": {},
   "outputs": [],
   "source": [
    "img=cv.imread('D:/openCV/photos/darling.jpg')\n"
   ]
  },
  {
   "cell_type": "code",
   "execution_count": 5,
   "id": "c46daeaa",
   "metadata": {},
   "outputs": [
    {
     "data": {
      "text/plain": [
       "-1"
      ]
     },
     "execution_count": 5,
     "metadata": {},
     "output_type": "execute_result"
    }
   ],
   "source": [
    "gray=cv.cvtColor(img,cv.COLOR_BGR2GRAY)\n",
    "canny=cv.Canny(img,125,175)\n",
    "cv.imshow(\"original\",img)\n",
    "cv.imshow(\"canny\",canny)\n",
    "cv.imshow(\"gray\",gray)\n",
    "cv.waitKey(0)"
   ]
  },
  {
   "cell_type": "code",
   "execution_count": 8,
   "id": "f5696b22",
   "metadata": {},
   "outputs": [
    {
     "name": "stdout",
     "output_type": "stream",
     "text": [
      "total contours in img:  2447\n"
     ]
    },
    {
     "data": {
      "text/plain": [
       "-1"
      ]
     },
     "execution_count": 8,
     "metadata": {},
     "output_type": "execute_result"
    }
   ],
   "source": [
    "#contours method returns two things\n",
    "# findContours(image, mode, method[, contours[, hierarchy[, offset]]]) -> contours, hierarchy\n",
    "# .   @brief Finds contours in a binary image.\n",
    "# .   takes edges of image (canny) as inp\n",
    "# .   The function retrieves contours from the binary image using the algorithm @cite Suzuki85 . The contours\n",
    "# .   are a useful tool for shape analysis and object detection and recognition\n",
    "img=cv.imread('D:/openCV/photos/darling.jpg')\n",
    "canny=cv.Canny(img,125,175)\n",
    "cv.imshow(\"original\",img)\n",
    "cv.imshow(\"canny\",canny)\n",
    "cv.imshow(\"gray\",gray)\n",
    "contours, heirachy=cv.findContours(canny,cv.RETR_LIST,cv.CHAIN_APPROX_SIMPLE)\n",
    "print(\"total contours in img: \",len(contours))\n",
    "cv.waitKey(0)\n"
   ]
  },
  {
   "cell_type": "code",
   "execution_count": 10,
   "id": "1303c423",
   "metadata": {},
   "outputs": [
    {
     "name": "stdout",
     "output_type": "stream",
     "text": [
      "total contours in img:  1969\n"
     ]
    },
    {
     "data": {
      "text/plain": [
       "-1"
      ]
     },
     "execution_count": 10,
     "metadata": {},
     "output_type": "execute_result"
    }
   ],
   "source": [
    "#ALTERNATE\n",
    "img=cv.imread('D:/openCV/photos/darling.jpg')\n",
    "gray=cv.cvtColor(img,cv.COLOR_BGR2GRAY)\n",
    "ret, thresh = cv.threshold(gray,125,255, cv.THRESH_BINARY)\n",
    "contours, heirachy=cv.findContours(thresh,cv.RETR_LIST,cv.CHAIN_APPROX_SIMPLE)\n",
    "cv.imshow(\"original\",img)\n",
    "cv.imshow(\"gray\",gray)\n",
    "cv.imshow(\"thresh\",thresh)\n",
    "print(\"total contours in img: \",len(contours))\n",
    "cv.waitKey(0)"
   ]
  },
  {
   "cell_type": "code",
   "execution_count": 9,
   "id": "c504f5b3",
   "metadata": {},
   "outputs": [],
   "source": [
    "#to reduce contours BLUR the Image"
   ]
  },
  {
   "cell_type": "code",
   "execution_count": 9,
   "id": "f421f7f5",
   "metadata": {},
   "outputs": [
    {
     "data": {
      "text/plain": [
       "-1"
      ]
     },
     "execution_count": 9,
     "metadata": {},
     "output_type": "execute_result"
    }
   ],
   "source": [
    "import numpy as np\n",
    "img=cv.imread('D:/openCV/photos/darling.jpg')\n",
    "gray=cv.cvtColor(img,cv.COLOR_BGR2GRAY)\n",
    "ret, thresh = cv.threshold(gray,125,255, cv.THRESH_BINARY)\n",
    "contours, heirachy=cv.findContours(thresh,cv.RETR_LIST,cv.CHAIN_APPROX_SIMPLE)\n",
    "blank=np.zeros(img.shape, dtype=\"uint8\")#taking the same shape as of image means same dimension as of imaghe\n",
    "cv.imshow(\"before\",blank)\n",
    "# drawContours(image, contours, contourIdx, color[, thickness[, lineType[, hierarchy[, maxLevel[, offset]]]]]) -> image\n",
    "#@brief Draws contours outlines or filled contours.\n",
    "\n",
    "cv.drawContours(blank,contours,-1,(0,0,255),2) #2 is thickness\n",
    "cv.imshow(\"contours drawn\",blank)\n",
    "cv.waitKey(0)\n",
    "#all the contours of gray img are drawn on blank black img\n",
    "#same can be done by canny"
   ]
  },
  {
   "cell_type": "code",
   "execution_count": null,
   "id": "402112bb",
   "metadata": {},
   "outputs": [],
   "source": []
  }
 ],
 "metadata": {
  "kernelspec": {
   "display_name": "Python 3 (ipykernel)",
   "language": "python",
   "name": "python3"
  },
  "language_info": {
   "codemirror_mode": {
    "name": "ipython",
    "version": 3
   },
   "file_extension": ".py",
   "mimetype": "text/x-python",
   "name": "python",
   "nbconvert_exporter": "python",
   "pygments_lexer": "ipython3",
   "version": "3.9.5"
  }
 },
 "nbformat": 4,
 "nbformat_minor": 5
}
