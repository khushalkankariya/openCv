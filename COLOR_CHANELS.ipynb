{
 "cells": [
  {
   "cell_type": "code",
   "execution_count": 1,
   "id": "3ae92ed2",
   "metadata": {},
   "outputs": [],
   "source": [
    "# spliting image: image have 3 color chanells i.e BGR\n",
    "# open cv allows us to split image in each individual chanell i.e B, G, R"
   ]
  },
  {
   "cell_type": "code",
   "execution_count": 1,
   "id": "c45b719e",
   "metadata": {},
   "outputs": [],
   "source": [
    "import cv2 as cv\n",
    "# img=cv.imread('D:/openCV/photos/darling.jpg')\n"
   ]
  },
  {
   "cell_type": "code",
   "execution_count": 2,
   "id": "e460a394",
   "metadata": {},
   "outputs": [
    {
     "name": "stdout",
     "output_type": "stream",
     "text": [
      "(427, 640, 3)\n",
      "(427, 640)\n",
      "(427, 640)\n",
      "(427, 640)\n"
     ]
    },
    {
     "data": {
      "text/plain": [
       "-1"
      ]
     },
     "execution_count": 2,
     "metadata": {},
     "output_type": "execute_result"
    }
   ],
   "source": [
    "img=cv.imread('D:/openCV/photos/bhed.jpg')\n",
    "cv.imshow(\"Original\",img)\n",
    "\n",
    "\n",
    "# cv.split() open cv function \n",
    "b,g,r=cv.split(img)\n",
    "cv.imshow(\"blue\",b)\n",
    "cv.imshow(\"green\",g)\n",
    "cv.imshow(\"red\",r)\n",
    "# the above will show all as gray scale images\n",
    "print(img.shape)\n",
    "print(b.shape)\n",
    "print(g.shape)\n",
    "print(r.shape)\n",
    "cv.waitKey(0)"
   ]
  },
  {
   "cell_type": "code",
   "execution_count": 3,
   "id": "1757f1f3",
   "metadata": {},
   "outputs": [],
   "source": [
    "#above (427, 640, 3) three represents number of color chanell\n"
   ]
  },
  {
   "cell_type": "code",
   "execution_count": 4,
   "id": "e962dacd",
   "metadata": {},
   "outputs": [
    {
     "data": {
      "text/plain": [
       "-1"
      ]
     },
     "execution_count": 4,
     "metadata": {},
     "output_type": "execute_result"
    }
   ],
   "source": [
    "#merging above chanells\n",
    "merged=cv.merge([b,g,r])\n",
    "cv.imshow(\"merged\",merged)\n",
    "cv.waitKey(0)"
   ]
  },
  {
   "cell_type": "code",
   "execution_count": 6,
   "id": "37ce6b38",
   "metadata": {},
   "outputs": [
    {
     "name": "stdout",
     "output_type": "stream",
     "text": [
      "(427, 640, 3)\n",
      "(427, 640, 3)\n",
      "(427, 640, 3)\n",
      "(427, 640, 3)\n"
     ]
    },
    {
     "data": {
      "text/plain": [
       "-1"
      ]
     },
     "execution_count": 6,
     "metadata": {},
     "output_type": "execute_result"
    }
   ],
   "source": [
    "# see clearly each chanell i.e b, g, r\n",
    "import numpy as np\n",
    "img=cv.imread('D:/openCV/photos/bhed.jpg')\n",
    "blank=np.zeros(img.shape[:2], dtype='uint8')\n",
    "b,g,r=cv.split(img)\n",
    "blue=cv.merge([b,blank,blank])\n",
    "green=cv.merge([blank,g,blank])\n",
    "red=cv.merge([blank,blank,r])\n",
    "\n",
    "cv.imshow(\"blue\",blue)\n",
    "cv.imshow(\"green\",green)\n",
    "cv.imshow(\"red\",red)\n",
    "# the above will show all as gray scale images\n",
    "print(img.shape)\n",
    "print(blue.shape)\n",
    "print(green.shape)\n",
    "print(red.shape)\n",
    "cv.waitKey(0)\n",
    "#notice the color chanell\n",
    "#above there was only one color chanell i.e gray scale image"
   ]
  },
  {
   "cell_type": "code",
   "execution_count": null,
   "id": "dc2466c4",
   "metadata": {},
   "outputs": [],
   "source": []
  }
 ],
 "metadata": {
  "kernelspec": {
   "display_name": "Python 3 (ipykernel)",
   "language": "python",
   "name": "python3"
  },
  "language_info": {
   "codemirror_mode": {
    "name": "ipython",
    "version": 3
   },
   "file_extension": ".py",
   "mimetype": "text/x-python",
   "name": "python",
   "nbconvert_exporter": "python",
   "pygments_lexer": "ipython3",
   "version": "3.9.5"
  }
 },
 "nbformat": 4,
 "nbformat_minor": 5
}
