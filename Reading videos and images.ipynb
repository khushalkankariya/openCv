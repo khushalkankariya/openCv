{
 "cells": [
  {
   "cell_type": "code",
   "execution_count": 6,
   "id": "e4340b4e",
   "metadata": {},
   "outputs": [],
   "source": [
    "import cv2 as cv"
   ]
  },
  {
   "cell_type": "code",
   "execution_count": 8,
   "id": "e9910a04",
   "metadata": {},
   "outputs": [],
   "source": [
    "#Readind img as matrix\n",
    "img=cv.imread('D:/openCV/photos/cat.jpg')"
   ]
  },
  {
   "cell_type": "code",
   "execution_count": 9,
   "id": "75324434",
   "metadata": {},
   "outputs": [
    {
     "data": {
      "text/plain": [
       "numpy.ndarray"
      ]
     },
     "execution_count": 9,
     "metadata": {},
     "output_type": "execute_result"
    }
   ],
   "source": [
    "type(img)"
   ]
  },
  {
   "cell_type": "code",
   "execution_count": 10,
   "id": "a05176d7",
   "metadata": {},
   "outputs": [
    {
     "data": {
      "text/plain": [
       "-1"
      ]
     },
     "execution_count": 10,
     "metadata": {},
     "output_type": "execute_result"
    }
   ],
   "source": [
    "#displaying img\n",
    "cv.imshow('Cat',img)\n",
    "cv.waitKey(0)\n",
    "#waitkey waits for the keybord to close tyhe image if 0 means infinite"
   ]
  },
  {
   "cell_type": "code",
   "execution_count": 5,
   "id": "08197f30",
   "metadata": {},
   "outputs": [],
   "source": [
    "# prob: as we can see the img doesnt appear properly becoz the dimension of img are greater than our monitor\n",
    "#soln: resizing and rescaling(will be in next module)"
   ]
  },
  {
   "cell_type": "code",
   "execution_count": 12,
   "id": "a120d0d9",
   "metadata": {},
   "outputs": [],
   "source": [
    "#reading video\n"
   ]
  },
  {
   "cell_type": "markdown",
   "id": "12956707",
   "metadata": {},
   "source": [
    "Steps to capture a video:\n",
    "\n",
    "Use cv2.VideoCapture() to get a video capture object for the camera.                                                           \n",
    "Set up an infinite while loop and use the read() method to read the frames using the above created object.\n",
    "Use cv2.imshow() method to show the frames in the video.\n",
    "\n",
    "Breaks the loop when the user clicks a specific key."
   ]
  },
  {
   "cell_type": "code",
   "execution_count": 13,
   "id": "afb10ba2",
   "metadata": {},
   "outputs": [],
   "source": [
    "#cv2.VideoCapture()  if arguemt 0 means webcam 1, 2.. means other camera connected\n",
    "#if want to read from device simply provide path"
   ]
  },
  {
   "cell_type": "code",
   "execution_count": 4,
   "id": "8b933196",
   "metadata": {},
   "outputs": [],
   "source": [
    "capture=cv.VideoCapture('D:/openCV/videos/pegion.mp4')\n",
    "#capture is an instance of class videocapture()\n",
    "while True:\n",
    "    ret, frame = capture.read()\n",
    "    # Display the resulting frame\n",
    "    cv.imshow('frame', frame)\n",
    "      \n",
    "    # the 'q' button is set as the quitting button you may use any\n",
    "    #you can set desired button of your choice\n",
    "    if cv.waitKey(20) & 0xFF == ord('q'):\n",
    "        break\n",
    "capture.release()\n",
    "cv.destroyAllWindows()"
   ]
  },
  {
   "cell_type": "code",
   "execution_count": null,
   "id": "a71f8c10",
   "metadata": {},
   "outputs": [],
   "source": [
    "#ret is a boolean variable that returns true if the frame is available.\n",
    "#frame is an image array vector captured based on the default frames per second defined explicitly or implicitly"
   ]
  },
  {
   "cell_type": "code",
   "execution_count": null,
   "id": "67503808",
   "metadata": {},
   "outputs": [],
   "source": []
  }
 ],
 "metadata": {
  "kernelspec": {
   "display_name": "Python 3 (ipykernel)",
   "language": "python",
   "name": "python3"
  },
  "language_info": {
   "codemirror_mode": {
    "name": "ipython",
    "version": 3
   },
   "file_extension": ".py",
   "mimetype": "text/x-python",
   "name": "python",
   "nbconvert_exporter": "python",
   "pygments_lexer": "ipython3",
   "version": "3.9.5"
  }
 },
 "nbformat": 4,
 "nbformat_minor": 5
}
