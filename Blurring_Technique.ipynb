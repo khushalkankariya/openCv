{
 "cells": [
  {
   "cell_type": "code",
   "execution_count": 1,
   "id": "e657f7b5",
   "metadata": {},
   "outputs": [],
   "source": [
    "import cv2 as cv\n"
   ]
  },
  {
   "cell_type": "code",
   "execution_count": null,
   "id": "c9dcfa72",
   "metadata": {},
   "outputs": [],
   "source": [
    "# blurring: reduce noise, problems in lightinig , smoothing"
   ]
  },
  {
   "cell_type": "code",
   "execution_count": null,
   "id": "574711d7",
   "metadata": {},
   "outputs": [],
   "source": [
    "# gaussian blur method previously seen\n",
    "# kernal size = no. of rows X no. of columns\n",
    "#blur is applied in middle of the pixel and some effect alsso take on neibhours array \n",
    "#kernal: specific part of window"
   ]
  },
  {
   "cell_type": "code",
   "execution_count": null,
   "id": "8680c94e",
   "metadata": {},
   "outputs": [],
   "source": [
    "img=cv.imread('D:/openCV/photos/bhed.jpg')\n",
    "cv.imshow(\"Original\",img)\n",
    "cv.waitKey(0)"
   ]
  },
  {
   "cell_type": "code",
   "execution_count": 4,
   "id": "0d73c4b4",
   "metadata": {},
   "outputs": [
    {
     "data": {
      "text/plain": [
       "-1"
      ]
     },
     "execution_count": 4,
     "metadata": {},
     "output_type": "execute_result"
    }
   ],
   "source": [
    "#. Averging=middle pixel is the average of surrounding pixel of array/matrix\n",
    "#this process takes place throughout the image\n",
    "# for averaging blur: cv.blur()\n",
    "img=cv.imread('D:/openCV/photos/bhed.jpg')\n",
    "average=cv.blur(img,(3,3)) #high the kernal more the blur\n",
    "cv.imshow(\"Original\",img)\n",
    "cv.imshow(\"average\",average)\n",
    "cv.waitKey(0)"
   ]
  },
  {
   "cell_type": "code",
   "execution_count": 6,
   "id": "a930f0ad",
   "metadata": {},
   "outputs": [
    {
     "data": {
      "text/plain": [
       "-1"
      ]
     },
     "execution_count": 6,
     "metadata": {},
     "output_type": "execute_result"
    }
   ],
   "source": [
    "# #Gaussian Blur\n",
    "# each surroundin pixel is given some weight and avg is taken to middle\n",
    "# less blur\n",
    "img=cv.imread('D:/openCV/photos/bhed.jpg')\n",
    "Gauss=cv.GaussianBlur(img,(7,7),0)\n",
    "cv.imshow(\"Original\",img)\n",
    "cv.imshow(\"Gauss_blur\",Gauss)\n",
    "cv.waitKey(0)"
   ]
  },
  {
   "cell_type": "code",
   "execution_count": 8,
   "id": "a86c2f2a",
   "metadata": {},
   "outputs": [
    {
     "data": {
      "text/plain": [
       "-1"
      ]
     },
     "execution_count": 8,
     "metadata": {},
     "output_type": "execute_result"
    }
   ],
   "source": [
    "#median blur\n",
    "# it finds median of surrounding and place to middle pixel\n",
    "img=cv.imread('D:/openCV/photos/bhed.jpg')\n",
    "median=cv.medianBlur(img,7)\n",
    "cv.imshow(\"Original\",img)\n",
    "cv.imshow(\"Med_blur\",median)\n",
    "cv.waitKey(0)"
   ]
  },
  {
   "cell_type": "code",
   "execution_count": 10,
   "id": "b8f52c4f",
   "metadata": {},
   "outputs": [
    {
     "data": {
      "text/plain": [
       "-1"
      ]
     },
     "execution_count": 10,
     "metadata": {},
     "output_type": "execute_result"
    }
   ],
   "source": [
    "#Bilateral Blurring: smart bluring\n",
    "# retains the edges in the blur unlikely other methods\n",
    "#in place of kernal size diameter is used\n",
    "img=cv.imread('D:/openCV/photos/bhed.jpg')\n",
    "# bilateralFilter(src, d, sigmaColor, sigmaSpace[, dst[, borderType]]) -> dst\n",
    "# .   @brief Applies the bilateral filter to an image.\n",
    "# sigma space means position in img from which part u want pixel\n",
    "bilateral=cv.bilateralFilter(img,5,15,250)\n",
    "cv.imshow(\"Bil_blur\",bilateral)\n",
    "cv.waitKey(0)"
   ]
  },
  {
   "cell_type": "code",
   "execution_count": 12,
   "id": "64f70643",
   "metadata": {},
   "outputs": [
    {
     "data": {
      "text/plain": [
       "-1"
      ]
     },
     "execution_count": 12,
     "metadata": {},
     "output_type": "execute_result"
    }
   ],
   "source": [
    "#comparision\n",
    "average=cv.blur(img,(5,5))\n",
    "median=cv.medianBlur(img,5)\n",
    "Gauss=cv.GaussianBlur(img,(5,5),0)\n",
    "bilateral=cv.bilateralFilter(img,10,95,250)\n",
    "\n",
    "cv.imshow(\"Med_blur\",median)\n",
    "cv.imshow(\"Gauss_blur\",Gauss)\n",
    "cv.imshow(\"average\",average)\n",
    "cv.imshow(\"Bil_blur\",bilateral)\n",
    "cv.waitKey(0)"
   ]
  },
  {
   "cell_type": "code",
   "execution_count": null,
   "id": "a6b74d62",
   "metadata": {},
   "outputs": [],
   "source": []
  }
 ],
 "metadata": {
  "kernelspec": {
   "display_name": "Python 3 (ipykernel)",
   "language": "python",
   "name": "python3"
  },
  "language_info": {
   "codemirror_mode": {
    "name": "ipython",
    "version": 3
   },
   "file_extension": ".py",
   "mimetype": "text/x-python",
   "name": "python",
   "nbconvert_exporter": "python",
   "pygments_lexer": "ipython3",
   "version": "3.9.5"
  }
 },
 "nbformat": 4,
 "nbformat_minor": 5
}
