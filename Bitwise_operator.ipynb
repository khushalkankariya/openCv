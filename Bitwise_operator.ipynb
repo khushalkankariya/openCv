{
 "cells": [
  {
   "cell_type": "code",
   "execution_count": 1,
   "id": "de903435",
   "metadata": {},
   "outputs": [],
   "source": [
    "#bitwise: AND, OR, XOR, NOT\n",
    "#0 turned off\n",
    "#1 turned on\n",
    "import numpy as np"
   ]
  },
  {
   "cell_type": "code",
   "execution_count": 2,
   "id": "8f031d1a",
   "metadata": {},
   "outputs": [],
   "source": [
    "import cv2 as cv"
   ]
  },
  {
   "cell_type": "code",
   "execution_count": 3,
   "id": "13c702b4",
   "metadata": {},
   "outputs": [
    {
     "data": {
      "text/plain": [
       "-1"
      ]
     },
     "execution_count": 3,
     "metadata": {},
     "output_type": "execute_result"
    }
   ],
   "source": [
    "blank=np.zeros((400,400), dtype='uint8')\n",
    "rectangle=cv.rectangle(blank.copy(),(30,30),(370,370), 255,-1)# here 255 means 1 parameter means white\n",
    "circle=cv.circle(blank.copy(),(200,200),200,255,-1)# in above and in this -1 means fill the shape\n",
    "cv.imshow(\"rectangle\",rectangle)\n",
    "cv.imshow(\"circle\",circle)\n",
    "cv.waitKey(0)"
   ]
  },
  {
   "cell_type": "code",
   "execution_count": 5,
   "id": "4ea76d9f",
   "metadata": {},
   "outputs": [
    {
     "data": {
      "text/plain": [
       "-1"
      ]
     },
     "execution_count": 5,
     "metadata": {},
     "output_type": "execute_result"
    }
   ],
   "source": [
    "#1. Bitwise AND\n",
    "#intersection of both\n",
    "bit_and=cv.bitwise_and(rectangle,circle)\n",
    "cv.imshow(\"BitwiaseAND\",bit_and)\n",
    "cv.waitKey(0)"
   ]
  },
  {
   "cell_type": "code",
   "execution_count": 6,
   "id": "35659a46",
   "metadata": {},
   "outputs": [
    {
     "data": {
      "text/plain": [
       "-1"
      ]
     },
     "execution_count": 6,
     "metadata": {},
     "output_type": "execute_result"
    }
   ],
   "source": [
    "#bitwise OR intersection+nonintersection\n",
    "bit_OR=cv.bitwise_or(rectangle,circle)\n",
    "cv.imshow(\"BitwiaseOR\",bit_OR)\n",
    "cv.waitKey(0)"
   ]
  },
  {
   "cell_type": "code",
   "execution_count": 8,
   "id": "be9f3d9e",
   "metadata": {},
   "outputs": [
    {
     "data": {
      "text/plain": [
       "-1"
      ]
     },
     "execution_count": 8,
     "metadata": {},
     "output_type": "execute_result"
    }
   ],
   "source": [
    "#bitwise XOR NON intersection region\n",
    "bit_XOR=cv.bitwise_xor(rectangle,circle)\n",
    "cv.imshow(\"BitwiaseXOR\",bit_XOR)\n",
    "cv.waitKey(0)"
   ]
  },
  {
   "cell_type": "code",
   "execution_count": 10,
   "id": "ddf5f00a",
   "metadata": {},
   "outputs": [
    {
     "data": {
      "text/plain": [
       "-1"
      ]
     },
     "execution_count": 10,
     "metadata": {},
     "output_type": "execute_result"
    }
   ],
   "source": [
    "#bitwise not \n",
    "#returns nothing but only invert the binary color\n",
    "bit_NOT=cv.bitwise_not(rectangle)\n",
    "cv.imshow(\"BitwiaseNOT\",bit_NOT)\n",
    "cv.waitKey(0)\n",
    "#compare with original img of rectangle totally inverted"
   ]
  },
  {
   "cell_type": "code",
   "execution_count": null,
   "id": "87b62553",
   "metadata": {},
   "outputs": [],
   "source": []
  }
 ],
 "metadata": {
  "kernelspec": {
   "display_name": "Python 3 (ipykernel)",
   "language": "python",
   "name": "python3"
  },
  "language_info": {
   "codemirror_mode": {
    "name": "ipython",
    "version": 3
   },
   "file_extension": ".py",
   "mimetype": "text/x-python",
   "name": "python",
   "nbconvert_exporter": "python",
   "pygments_lexer": "ipython3",
   "version": "3.9.5"
  }
 },
 "nbformat": 4,
 "nbformat_minor": 5
}
