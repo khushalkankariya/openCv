{
 "cells": [
  {
   "cell_type": "code",
   "execution_count": 1,
   "id": "6ae63c5b",
   "metadata": {},
   "outputs": [],
   "source": [
    "import cv2 as cv\n",
    "import numpy as np"
   ]
  },
  {
   "cell_type": "code",
   "execution_count": 2,
   "id": "a09abbb3",
   "metadata": {},
   "outputs": [],
   "source": [
    "blank=np.zeros((500,500), dtype=\"uint8\")\n",
    "img=cv.imread('D:/openCV/photos/darling.jpg')"
   ]
  },
  {
   "cell_type": "code",
   "execution_count": 7,
   "id": "9e4660ba",
   "metadata": {},
   "outputs": [
    {
     "data": {
      "text/plain": [
       "-1"
      ]
     },
     "execution_count": 7,
     "metadata": {},
     "output_type": "execute_result"
    }
   ],
   "source": [
    "cv.imshow(\"blank img\", blank)\n",
    "cv.imshow(\"darling\", img)\n",
    "cv.waitKey(0)"
   ]
  },
  {
   "cell_type": "code",
   "execution_count": 5,
   "id": "24d7a372",
   "metadata": {},
   "outputs": [],
   "source": [
    "#3rd arguement is number of color chanell in np.zeros\n",
    "blank=np.zeros((500,500,3), dtype=\"uint8\")\n"
   ]
  },
  {
   "cell_type": "code",
   "execution_count": 7,
   "id": "a96408cb",
   "metadata": {},
   "outputs": [
    {
     "data": {
      "text/plain": [
       "-1"
      ]
     },
     "execution_count": 7,
     "metadata": {},
     "output_type": "execute_result"
    }
   ],
   "source": [
    "#painting entire img in gree RGB\n",
    "blank=np.zeros((500,500,3), dtype=\"uint8\")\n",
    "\n",
    "blank[:]=(0,255,0)\n",
    "cv.imshow(\"Green img\",blank)\n",
    "cv.waitKey(0)\n",
    "#similarly draaw for RBG"
   ]
  },
  {
   "cell_type": "code",
   "execution_count": 8,
   "id": "534ce467",
   "metadata": {},
   "outputs": [
    {
     "data": {
      "text/plain": [
       "-1"
      ]
     },
     "execution_count": 8,
     "metadata": {},
     "output_type": "execute_result"
    }
   ],
   "source": [
    "#coloring some part of img\n",
    "blank=np.zeros((500,500,3), dtype=\"uint8\")\n",
    "\n",
    "blank[100:200,450:500]=(0,255,0)\n",
    "cv.imshow(\"Half green\",blank)\n",
    "cv.waitKey(0)"
   ]
  },
  {
   "cell_type": "code",
   "execution_count": 13,
   "id": "2da2844b",
   "metadata": {},
   "outputs": [
    {
     "data": {
      "text/plain": [
       "-1"
      ]
     },
     "execution_count": 13,
     "metadata": {},
     "output_type": "execute_result"
    }
   ],
   "source": [
    "#drawing Rectangle\n",
    "blank=np.zeros((500,500,3), dtype=\"uint8\")\n",
    "#rectangle(img, pt1 :(0,0) means origin, pt2, color[, thickness[, lineType[, shift]]]) -> img\n",
    "\n",
    "cv.rectangle(blank,(0,0),(200,150),(0,255,0),thickness=2)\n",
    "cv.imshow(\"rectangle\", blank)\n",
    "cv.waitKey(0)"
   ]
  },
  {
   "cell_type": "code",
   "execution_count": 14,
   "id": "d24f6917",
   "metadata": {},
   "outputs": [
    {
     "data": {
      "text/plain": [
       "-1"
      ]
     },
     "execution_count": 14,
     "metadata": {},
     "output_type": "execute_result"
    }
   ],
   "source": [
    "#filling color in rectangle\n",
    "blank=np.zeros((500,500,3), dtype=\"uint8\")\n",
    "#rectangle(img, pt1 :(0,0) means origin, pt2, color[, thickness[, lineType[, shift]]]) -> img\n",
    "\n",
    "cv.rectangle(blank,(0,0),(200,150),(0,255,0),thickness=cv.FILLED)\n",
    "cv.imshow(\"rectangle\", blank)\n",
    "cv.waitKey(0)"
   ]
  },
  {
   "cell_type": "code",
   "execution_count": 15,
   "id": "f3440182",
   "metadata": {},
   "outputs": [
    {
     "data": {
      "text/plain": [
       "-1"
      ]
     },
     "execution_count": 15,
     "metadata": {},
     "output_type": "execute_result"
    }
   ],
   "source": [
    "#ALternative\n",
    "#filling color in rectangle\n",
    "blank=np.zeros((500,500,3), dtype=\"uint8\")\n",
    "#rectangle(img, pt1 :(0,0) means origin, pt2, color[, thickness[, lineType[, shift]]]) -> img\n",
    "\n",
    "cv.rectangle(blank,(0,0),(200,150),(0,255,0),thickness=-1)\n",
    "cv.imshow(\"rectangle\", blank)\n",
    "cv.waitKey(0)"
   ]
  },
  {
   "cell_type": "code",
   "execution_count": 18,
   "id": "fdc238b8",
   "metadata": {},
   "outputs": [
    {
     "data": {
      "text/plain": [
       "-1"
      ]
     },
     "execution_count": 18,
     "metadata": {},
     "output_type": "execute_result"
    }
   ],
   "source": [
    "#draw circle\n",
    "blank=np.zeros((500,500,3), dtype=\"uint8\")\n",
    "#rectangle(img, pt1 :(0,0) means origin, pt2, color[, thickness[, lineType[, shift]]]) -> img\n",
    "\n",
    "cv.rectangle(blank,(0,0),(200,150),(0,255,0),thickness=4)\n",
    "#circle(img, center, radius, color[, thickness[, lineType[, shift]]]) -> img\n",
    "cv.circle(blank,(250,200),50,(0,0,255), thickness=-1)\n",
    "cv.imshow(\"rectangl &circle\", blank)\n",
    "\n",
    "cv.waitKey(0)"
   ]
  },
  {
   "cell_type": "code",
   "execution_count": 22,
   "id": "77e374c4",
   "metadata": {},
   "outputs": [
    {
     "data": {
      "text/plain": [
       "-1"
      ]
     },
     "execution_count": 22,
     "metadata": {},
     "output_type": "execute_result"
    }
   ],
   "source": [
    "#draw a line\n",
    "#+\n",
    "#alternate of determining position\n",
    "blank=np.zeros((500,500,3), dtype=\"uint8\")\n",
    "#line(img, pt1, pt2, color[, thickness[, lineType[, shift]]]) -> img\n",
    "cv.line(blank,(0,0),(blank.shape[1]//2,blank.shape[0]//2),(255,255,0), thickness=4)\n",
    "#means center pt\n",
    "cv.imshow(\"line\",blank)\n",
    "cv.waitKey(0)"
   ]
  },
  {
   "cell_type": "code",
   "execution_count": 31,
   "id": "58eece59",
   "metadata": {},
   "outputs": [
    {
     "data": {
      "text/plain": [
       "(853, 1280, 3)"
      ]
     },
     "execution_count": 31,
     "metadata": {},
     "output_type": "execute_result"
    }
   ],
   "source": [
    "img=cv.imread('D:/openCV/photos/darling.jpg')\n",
    "img.shape"
   ]
  },
  {
   "cell_type": "code",
   "execution_count": 34,
   "id": "a8fffd79",
   "metadata": {},
   "outputs": [
    {
     "data": {
      "text/plain": [
       "-1"
      ]
     },
     "execution_count": 34,
     "metadata": {},
     "output_type": "execute_result"
    }
   ],
   "source": [
    "#write text on img\n",
    "img=cv.imread('D:/openCV/photos/darling.jpg')\n",
    "#putText(img, text, org, fontFace, fontScale, color[, thickness[, lineType[, bottomLeftOrigin]]]) \n",
    "cv.putText(img,\"Darling\", (426,500),cv.FONT_HERSHEY_TRIPLEX,1.0,(0,255,0),thickness=1)\n",
    "cv.imshow(\"darling\",img)\n",
    "cv.waitKey(0)"
   ]
  },
  {
   "cell_type": "code",
   "execution_count": null,
   "id": "048baa6f",
   "metadata": {},
   "outputs": [],
   "source": []
  }
 ],
 "metadata": {
  "kernelspec": {
   "display_name": "Python 3 (ipykernel)",
   "language": "python",
   "name": "python3"
  },
  "language_info": {
   "codemirror_mode": {
    "name": "ipython",
    "version": 3
   },
   "file_extension": ".py",
   "mimetype": "text/x-python",
   "name": "python",
   "nbconvert_exporter": "python",
   "pygments_lexer": "ipython3",
   "version": "3.9.5"
  }
 },
 "nbformat": 4,
 "nbformat_minor": 5
}
